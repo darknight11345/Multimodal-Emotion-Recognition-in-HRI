{
 "cells": [
  {
   "cell_type": "code",
   "execution_count": null,
   "metadata": {
    "colab": {
     "base_uri": "https://localhost:8080/"
    },
    "collapsed": true,
    "executionInfo": {
     "elapsed": 94599,
     "status": "ok",
     "timestamp": 1755015725368,
     "user": {
      "displayName": "Selvi Srini",
      "userId": "14345722323190928676"
     },
     "user_tz": -120
    },
    "id": "8nYS9qahzAQ_",
    "outputId": "178b1131-442c-4877-fe4b-c86ed621b3ff"
   },
   "outputs": [
    {
     "ename": "",
     "evalue": "",
     "output_type": "error",
     "traceback": [
      "\u001b[1;31mRunning cells with 'Python 3.12.6' requires the ipykernel package.\n",
      "\u001b[1;31m<a href='command:jupyter.createPythonEnvAndSelectController'>Create a Python Environment</a> with the required packages.\n",
      "\u001b[1;31mOr install 'ipykernel' using the command: 'c:/Users/thara/AppData/Local/Programs/Python/Python312/python.exe -m pip install ipykernel -U --user --force-reinstall'"
     ]
    }
   ],
   "source": [
    "from google.colab import drive\n",
    "drive.mount('/content/drive', force_remount = True)"
   ]
  },
  {
   "cell_type": "code",
   "execution_count": null,
   "metadata": {
    "id": "K31C-zTfZdFa"
   },
   "outputs": [],
   "source": [
    "%%capture\n",
    "!pip install pydub\n",
    "!pip install noisereduce\n",
    "!pip install json-tricks"
   ]
  },
  {
   "cell_type": "code",
   "execution_count": null,
   "metadata": {
    "colab": {
     "base_uri": "https://localhost:8080/"
    },
    "executionInfo": {
     "elapsed": 5074,
     "status": "ok",
     "timestamp": 1755014623738,
     "user": {
      "displayName": "Selvi Srini",
      "userId": "14345722323190928676"
     },
     "user_tz": -120
    },
    "id": "Eszufsg9BPdq",
    "outputId": "eff16312-4b78-493c-bb86-6e00c1c03a9c"
   },
   "outputs": [
    {
     "name": "stdout",
     "output_type": "stream",
     "text": [
      "Collecting noisereduce\n",
      "  Downloading noisereduce-3.0.3-py3-none-any.whl.metadata (14 kB)\n",
      "Requirement already satisfied: scipy in /usr/local/lib/python3.11/dist-packages (from noisereduce) (1.16.1)\n",
      "Requirement already satisfied: matplotlib in /usr/local/lib/python3.11/dist-packages (from noisereduce) (3.10.0)\n",
      "Requirement already satisfied: numpy in /usr/local/lib/python3.11/dist-packages (from noisereduce) (2.0.2)\n",
      "Requirement already satisfied: tqdm in /usr/local/lib/python3.11/dist-packages (from noisereduce) (4.67.1)\n",
      "Requirement already satisfied: joblib in /usr/local/lib/python3.11/dist-packages (from noisereduce) (1.5.1)\n",
      "Requirement already satisfied: contourpy>=1.0.1 in /usr/local/lib/python3.11/dist-packages (from matplotlib->noisereduce) (1.3.3)\n",
      "Requirement already satisfied: cycler>=0.10 in /usr/local/lib/python3.11/dist-packages (from matplotlib->noisereduce) (0.12.1)\n",
      "Requirement already satisfied: fonttools>=4.22.0 in /usr/local/lib/python3.11/dist-packages (from matplotlib->noisereduce) (4.59.0)\n",
      "Requirement already satisfied: kiwisolver>=1.3.1 in /usr/local/lib/python3.11/dist-packages (from matplotlib->noisereduce) (1.4.8)\n",
      "Requirement already satisfied: packaging>=20.0 in /usr/local/lib/python3.11/dist-packages (from matplotlib->noisereduce) (25.0)\n",
      "Requirement already satisfied: pillow>=8 in /usr/local/lib/python3.11/dist-packages (from matplotlib->noisereduce) (11.3.0)\n",
      "Requirement already satisfied: pyparsing>=2.3.1 in /usr/local/lib/python3.11/dist-packages (from matplotlib->noisereduce) (3.2.3)\n",
      "Requirement already satisfied: python-dateutil>=2.7 in /usr/local/lib/python3.11/dist-packages (from matplotlib->noisereduce) (2.9.0.post0)\n",
      "Requirement already satisfied: six>=1.5 in /usr/local/lib/python3.11/dist-packages (from python-dateutil>=2.7->matplotlib->noisereduce) (1.17.0)\n",
      "Downloading noisereduce-3.0.3-py3-none-any.whl (22 kB)\n",
      "Installing collected packages: noisereduce\n",
      "Successfully installed noisereduce-3.0.3\n"
     ]
    }
   ],
   "source": [
    "!pip install noisereduce"
   ]
  },
  {
   "cell_type": "code",
   "execution_count": null,
   "metadata": {
    "executionInfo": {
     "elapsed": 9562,
     "status": "ok",
     "timestamp": 1755014638409,
     "user": {
      "displayName": "Selvi Srini",
      "userId": "14345722323190928676"
     },
     "user_tz": -120
    },
    "id": "li2EfZXmQehM"
   },
   "outputs": [],
   "source": [
    "%%capture\n",
    "import numpy as np\n",
    "import os\n",
    "from json_tricks import dump, load\n",
    "\n",
    "from pydub import AudioSegment, effects\n",
    "import librosa\n",
    "import noisereduce as nr\n",
    "\n",
    "import tensorflow as tf\n",
    "import keras\n",
    "import sklearn"
   ]
  },
  {
   "cell_type": "code",
   "execution_count": 8,
   "metadata": {
    "executionInfo": {
     "elapsed": 28,
     "status": "ok",
     "timestamp": 1755015785676,
     "user": {
      "displayName": "Selvi Srini",
      "userId": "14345722323190928676"
     },
     "user_tz": -120
    },
    "id": "lUMWt35lTQQL"
   },
   "outputs": [],
   "source": [
    "# Emotion kind validation function for TESS database, due to emotions written within the file names.\n",
    "def find_emotion_T(name):\n",
    "        if('neutral' in name): return \"01\"\n",
    "        elif('happy' in name): return \"03\"\n",
    "        elif('sad' in name): return \"04\"\n",
    "        elif('angry' in name): return \"05\"\n",
    "        elif('fear' in name): return \"06\"\n",
    "        elif('disgust' in name): return \"07\"\n",
    "        elif('ps' in name): return \"08\"\n",
    "        else: return \"-1\"\n",
    "\n",
    "\n",
    "# 'emotions' list fix for classification purposes:\n",
    "#     Classification values start from 0, Thus an 'n = n-1' operation has been executed for both RAVDESS and TESS databases:\n",
    "def emotionfix(e_num):\n",
    "    if e_num == \"01\":   return 0 # neutral\n",
    "    elif e_num == \"02\": return 1 # calm\n",
    "    elif e_num == \"03\": return 2 # happy\n",
    "    elif e_num == \"04\": return 3 # sad\n",
    "    elif e_num == \"05\": return 4 # angry\n",
    "    elif e_num == \"06\": return 5 # fear\n",
    "    elif e_num == \"07\": return 6 # disgust\n",
    "    else:               return 7 # suprised"
   ]
  },
  {
   "cell_type": "code",
   "execution_count": 11,
   "metadata": {
    "colab": {
     "base_uri": "https://localhost:8080/"
    },
    "executionInfo": {
     "elapsed": 93,
     "status": "ok",
     "timestamp": 1755016061588,
     "user": {
      "displayName": "Selvi Srini",
      "userId": "14345722323190928676"
     },
     "user_tz": -120
    },
    "id": "ydC8v5SNra-0",
    "outputId": "7fb801ab-7a13-45db-8c39-a81f212882fa"
   },
   "outputs": [
    {
     "name": "stdout",
     "output_type": "stream",
     "text": [
      "Maximum sample length: 142336\n"
     ]
    }
   ],
   "source": [
    "# Maximum samples count for padding purposes.\n",
    "\n",
    "sample_lengths = []\n",
    "folder_path = '/content/drive/MyDrive/Audiofiles'\n",
    "for subdir, dirs, files in os.walk(folder_path):\n",
    "  for file in files:\n",
    "    x, sr = librosa.load(path = os.path.join(subdir,file), sr = None)\n",
    "    xt, index = librosa.effects.trim(x, top_db=30)\n",
    "\n",
    "    sample_lengths.append(len(xt))\n",
    "\n",
    "print('Maximum sample length:', np.max(sample_lengths))"
   ]
  },
  {
   "cell_type": "code",
   "execution_count": 15,
   "metadata": {
    "colab": {
     "base_uri": "https://localhost:8080/"
    },
    "executionInfo": {
     "elapsed": 1520,
     "status": "ok",
     "timestamp": 1755016278392,
     "user": {
      "displayName": "Selvi Srini",
      "userId": "14345722323190928676"
     },
     "user_tz": -120
    },
    "id": "WHsU4Noi1n_q",
    "outputId": "bf2f743f-5d23-47fa-81ca-3d4ba73b6d89"
   },
   "outputs": [
    {
     "name": "stdout",
     "output_type": "stream",
     "text": [
      "Running time: 0.0252 minutes\n"
     ]
    }
   ],
   "source": [
    "import time\n",
    "tic = time.perf_counter()\n",
    "\n",
    "# Initialize data lists\n",
    "rms = []\n",
    "zcr = []\n",
    "mfcc = []\n",
    "emotions = []\n",
    "\n",
    "# Initialize variables\n",
    "total_length = 173056 # desired frame length for all of the audio samples.\n",
    "frame_length = 2048\n",
    "hop_length = 512\n",
    "\n",
    "folder_path = '/content/drive/My Drive/Audiofiles'\n",
    "\n",
    "for subdir, dirs, files in os.walk(folder_path):\n",
    "  for file in files:\n",
    "\n",
    "    # Fetch the sample rate.\n",
    "      _, sr = librosa.load(path = os.path.join(subdir,file), sr = None) # sr (the sample rate) is used for librosa's MFCCs. '_' is irrelevant.\n",
    "    # Load the audio file.\n",
    "      rawsound = AudioSegment.from_file(os.path.join(subdir,file))\n",
    "    # Normalize the audio to +5.0 dBFS.\n",
    "      normalizedsound = effects.normalize(rawsound, headroom = 0)\n",
    "    # Transform the normalized audio to np.array of samples.\n",
    "      normal_x = np.array(normalizedsound.get_array_of_samples(), dtype = 'float32')\n",
    "    # Trim silence from the beginning and the end.\n",
    "      xt, index = librosa.effects.trim(normal_x, top_db=30)\n",
    "      #print(file,\"\\t\", len(xt), \"\\t\", rawsound.dBFS, \"\\t\", normalizedsound.dBFS) #--QA purposes if needed--\n",
    "    # Pad for duration equalization.\n",
    "      padded_x = np.pad(xt, (0, total_length-len(xt)), 'constant')\n",
    "    # Noise reduction.\n",
    "      final_x = nr.reduce_noise(padded_x, sr=sr) #updated 03/03/22\n",
    "\n",
    "   # Features extraction\n",
    "      f1 = librosa.feature.rms(y=final_x, frame_length=frame_length, hop_length=hop_length) # Energy - Root Mean Square\n",
    "      f2 = librosa.feature.zero_crossing_rate(final_x , frame_length=frame_length, hop_length=hop_length, center=True) # ZCR\n",
    "      f3 = librosa.feature.mfcc(y=final_x, sr=sr, n_mfcc=13, hop_length = hop_length) # MFCC\n",
    "\n",
    "   # Emotion extraction from the different databases\n",
    "      if (find_emotion_T(file) != \"-1\"): #TESS database validation\n",
    "            name = find_emotion_T(file)\n",
    "      else:                              #RAVDESS database validation\n",
    "            name = file[6:8]\n",
    "\n",
    "   # Filling the data lists\n",
    "      rms.append(f1)\n",
    "      zcr.append(f2)\n",
    "      mfcc.append(f3)\n",
    "      emotions.append(emotionfix(name))\n",
    "\n",
    "toc = time.perf_counter()\n",
    "print(f\"Running time: {(toc - tic)/60:0.4f} minutes\")"
   ]
  },
  {
   "cell_type": "markdown",
   "metadata": {
    "id": "HmOguACr9pIf"
   },
   "source": [
    "**X, Y Setup**"
   ]
  },
  {
   "cell_type": "code",
   "execution_count": 16,
   "metadata": {
    "colab": {
     "base_uri": "https://localhost:8080/"
    },
    "executionInfo": {
     "elapsed": 73,
     "status": "ok",
     "timestamp": 1755016301891,
     "user": {
      "displayName": "Selvi Srini",
      "userId": "14345722323190928676"
     },
     "user_tz": -120
    },
    "id": "DFP_FOZsp6qO",
    "outputId": "ed82f910-a1ba-49ec-b12b-ca85c6b4200d"
   },
   "outputs": [
    {
     "name": "stdout",
     "output_type": "stream",
     "text": [
      "ZCR shape: (9, 339, 1)\n",
      "RMS shape: (9, 339, 1)\n",
      "MFCCs shape: (9, 339, 13)\n"
     ]
    }
   ],
   "source": [
    "# Adjusting features shape to the 3D format: (batch, timesteps, feature)\n",
    "\n",
    "f_rms = np.asarray(rms).astype('float32')\n",
    "f_rms = np.swapaxes(f_rms,1,2)\n",
    "f_zcr = np.asarray(zcr).astype('float32')\n",
    "f_zcr = np.swapaxes(f_zcr,1,2)\n",
    "f_mfccs = np.asarray(mfcc).astype('float32')\n",
    "f_mfccs = np.swapaxes(f_mfccs,1,2)\n",
    "\n",
    "print('ZCR shape:',f_zcr.shape)\n",
    "print('RMS shape:',f_rms.shape)\n",
    "print('MFCCs shape:',f_mfccs.shape)"
   ]
  },
  {
   "cell_type": "markdown",
   "metadata": {
    "id": "9MKl5uflQkDp"
   },
   "source": [
    "**Note: a total of 8 files had been removed from both databases due to various file corruptions.**"
   ]
  },
  {
   "cell_type": "code",
   "execution_count": null,
   "metadata": {},
   "outputs": [],
   "source": []
  },
  {
   "cell_type": "code",
   "execution_count": 17,
   "metadata": {
    "executionInfo": {
     "elapsed": 39,
     "status": "ok",
     "timestamp": 1755016317715,
     "user": {
      "displayName": "Selvi Srini",
      "userId": "14345722323190928676"
     },
     "user_tz": -120
    },
    "id": "wSpXqgJqMHvR"
   },
   "outputs": [],
   "source": [
    "# Concatenating all features to 'X' variable.\n",
    "X = np.concatenate((f_zcr, f_rms, f_mfccs), axis=2)\n",
    "\n",
    "# Preparing 'Y' as a 2D shaped variable.\n",
    "Y = np.asarray(emotions).astype('int8')\n",
    "Y = np.expand_dims(Y, axis=1)"
   ]
  },
  {
   "cell_type": "markdown",
   "metadata": {
    "id": "jpg1XU6Zkimi"
   },
   "source": [
    "**Save & Load X,Y to JSON files**"
   ]
  },
  {
   "cell_type": "code",
   "execution_count": 18,
   "metadata": {
    "colab": {
     "base_uri": "https://localhost:8080/",
     "height": 36
    },
    "executionInfo": {
     "elapsed": 80,
     "status": "ok",
     "timestamp": 1755016333531,
     "user": {
      "displayName": "Selvi Srini",
      "userId": "14345722323190928676"
     },
     "user_tz": -120
    },
    "id": "JZR2SoDp61pR",
    "outputId": "b71101c8-ea59-41e9-c59d-28379674380e"
   },
   "outputs": [
    {
     "data": {
      "application/vnd.google.colaboratory.intrinsic+json": {
       "type": "string"
      },
      "text/plain": [
       "'[[5], [6], [1], [1], [1], [1], [1], [1], [1]]'"
      ]
     },
     "execution_count": 18,
     "metadata": {},
     "output_type": "execute_result"
    }
   ],
   "source": [
    "# Save X,Y arrays as lists to json files.\n",
    "\n",
    "x_data = X.tolist()\n",
    "x_path = '/content/drive/My Drive/Colab Notebooks/X_datanew.json' # FILE SAVE PATH\n",
    "dump(obj = x_data, fp = x_path)\n",
    "\n",
    "y_data = Y.tolist()\n",
    "y_path = '/content/drive/My Drive/Colab Notebooks/Y_datanew.json' # FILE SAVE PATH\n",
    "dump(obj = y_data, fp = y_path)\n"
   ]
  },
  {
   "cell_type": "code",
   "execution_count": 19,
   "metadata": {
    "executionInfo": {
     "elapsed": 57,
     "status": "ok",
     "timestamp": 1755016343075,
     "user": {
      "displayName": "Selvi Srini",
      "userId": "14345722323190928676"
     },
     "user_tz": -120
    },
    "id": "oy53CmsODtSQ"
   },
   "outputs": [],
   "source": [
    "# Load X,Y json files back into lists, convert to np.arrays\n",
    "\n",
    "x_path = '/content/drive/My Drive/Colab Notebooks/X_datanew.json' # FILE LOAD PATH\n",
    "X = load(x_path)\n",
    "X = np.asarray(X, dtype = 'float32')\n",
    "\n",
    "y_path = '/content/drive/My Drive/Colab Notebooks/Y_datanew.json' # FILE LOAD PATH\n",
    "Y = load(y_path)\n",
    "Y = np.asarray(Y, dtype = 'int8')"
   ]
  },
  {
   "cell_type": "markdown",
   "metadata": {
    "id": "jA32m2iU962I"
   },
   "source": [
    "\n",
    "*   **Split X, Y To Train, Validation, and Test Sets**\n",
    "*   **y_train and y_val conversion to One-Hot vectors.**\n",
    "\n"
   ]
  },
  {
   "cell_type": "code",
   "execution_count": 21,
   "metadata": {
    "executionInfo": {
     "elapsed": 4,
     "status": "ok",
     "timestamp": 1755016385968,
     "user": {
      "displayName": "Selvi Srini",
      "userId": "14345722323190928676"
     },
     "user_tz": -120
    },
    "id": "h1Photkwq-bw"
   },
   "outputs": [],
   "source": [
    "# Split to train, validation, and test sets.\n",
    "from sklearn.model_selection import train_test_split\n",
    "x_train, x_tosplit, y_train, y_tosplit = train_test_split(X, Y, test_size = 0.125, random_state = 1)\n",
    "x_val, x_test, y_val, y_test = train_test_split(x_tosplit, y_tosplit, test_size = 0.304, random_state = 1)\n",
    "\n",
    "#'One-hot' vectors for Y: emotion classification\n",
    "y_train_class = tf.keras.utils.to_categorical(y_train, 8)\n",
    "y_val_class = tf.keras.utils.to_categorical(y_val, 8)"
   ]
  },
  {
   "cell_type": "code",
   "execution_count": 22,
   "metadata": {
    "colab": {
     "base_uri": "https://localhost:8080/"
    },
    "executionInfo": {
     "elapsed": 48,
     "status": "ok",
     "timestamp": 1755016391700,
     "user": {
      "displayName": "Selvi Srini",
      "userId": "14345722323190928676"
     },
     "user_tz": -120
    },
    "id": "NgRlZBJbMHvX",
    "outputId": "bab5276f-e981-490d-8a72-3a5d631701b8"
   },
   "outputs": [
    {
     "name": "stdout",
     "output_type": "stream",
     "text": [
      "(7, 339, 15)\n",
      "(1, 339, 15)\n",
      "(1, 339, 15)\n"
     ]
    }
   ],
   "source": [
    "# x_train, x_val, and x_test shape check.\n",
    "print(np.shape(x_train))\n",
    "print(np.shape(x_val))\n",
    "print(np.shape(x_test))"
   ]
  },
  {
   "cell_type": "code",
   "execution_count": 23,
   "metadata": {
    "colab": {
     "base_uri": "https://localhost:8080/",
     "height": 36
    },
    "executionInfo": {
     "elapsed": 22,
     "status": "ok",
     "timestamp": 1755016401351,
     "user": {
      "displayName": "Selvi Srini",
      "userId": "14345722323190928676"
     },
     "user_tz": -120
    },
    "id": "aW4qJ9VogZJ2",
    "outputId": "8d0b3a6b-63dc-4851-ae3d-53ea520ea1a7"
   },
   "outputs": [
    {
     "data": {
      "application/vnd.google.colaboratory.intrinsic+json": {
       "type": "string"
      },
      "text/plain": [
       "'{\"__ndarray__\": [[1]], \"dtype\": \"int8\", \"shape\": [1, 1], \"Corder\": true}'"
      ]
     },
     "execution_count": 23,
     "metadata": {},
     "output_type": "execute_result"
    }
   ],
   "source": [
    "# Save x_test, y_test to JSON.\n",
    "\n",
    "file_path = 'x_test_data.json'\n",
    "dump(obj = x_test, fp = file_path)\n",
    "\n",
    "file_path = 'y_test_data.json'\n",
    "dump(obj = y_test, fp = file_path)"
   ]
  },
  {
   "cell_type": "code",
   "execution_count": 24,
   "metadata": {
    "executionInfo": {
     "elapsed": 6,
     "status": "ok",
     "timestamp": 1755016455398,
     "user": {
      "displayName": "Selvi Srini",
      "userId": "14345722323190928676"
     },
     "user_tz": -120
    },
    "id": "1ROkmISHZCkM"
   },
   "outputs": [],
   "source": [
    "from keras.models import Sequential\n",
    "from keras import layers\n",
    "from keras import optimizers\n",
    "from keras import callbacks"
   ]
  },
  {
   "cell_type": "code",
   "execution_count": 29,
   "metadata": {
    "colab": {
     "base_uri": "https://localhost:8080/",
     "height": 1000
    },
    "executionInfo": {
     "elapsed": 175637,
     "status": "ok",
     "timestamp": 1755022703598,
     "user": {
      "displayName": "Selvi Srini",
      "userId": "14345722323190928676"
     },
     "user_tz": -120
    },
    "id": "3DroQ71fXxPN",
    "outputId": "f2041caf-8307-4597-9c7f-fc44d97cc75d"
   },
   "outputs": [
    {
     "name": "stderr",
     "output_type": "stream",
     "text": [
      "/usr/local/lib/python3.11/dist-packages/keras/src/layers/rnn/rnn.py:199: UserWarning: Do not pass an `input_shape`/`input_dim` argument to a layer. When using Sequential models, prefer using an `Input(shape)` object as the first layer in the model instead.\n",
      "  super().__init__(**kwargs)\n"
     ]
    },
    {
     "data": {
      "text/html": [
       "<pre style=\"white-space:pre;overflow-x:auto;line-height:normal;font-family:Menlo,'DejaVu Sans Mono',consolas,'Courier New',monospace\"><span style=\"font-weight: bold\">Model: \"sequential_4\"</span>\n",
       "</pre>\n"
      ],
      "text/plain": [
       "\u001b[1mModel: \"sequential_4\"\u001b[0m\n"
      ]
     },
     "metadata": {},
     "output_type": "display_data"
    },
    {
     "data": {
      "text/html": [
       "<pre style=\"white-space:pre;overflow-x:auto;line-height:normal;font-family:Menlo,'DejaVu Sans Mono',consolas,'Courier New',monospace\">┏━━━━━━━━━━━━━━━━━━━━━━━━━━━━━━━━━┳━━━━━━━━━━━━━━━━━━━━━━━━┳━━━━━━━━━━━━━━━┓\n",
       "┃<span style=\"font-weight: bold\"> Layer (type)                    </span>┃<span style=\"font-weight: bold\"> Output Shape           </span>┃<span style=\"font-weight: bold\">       Param # </span>┃\n",
       "┡━━━━━━━━━━━━━━━━━━━━━━━━━━━━━━━━━╇━━━━━━━━━━━━━━━━━━━━━━━━╇━━━━━━━━━━━━━━━┩\n",
       "│ lstm_8 (<span style=\"color: #0087ff; text-decoration-color: #0087ff\">LSTM</span>)                   │ (<span style=\"color: #00d7ff; text-decoration-color: #00d7ff\">None</span>, <span style=\"color: #00af00; text-decoration-color: #00af00\">339</span>, <span style=\"color: #00af00; text-decoration-color: #00af00\">64</span>)        │        <span style=\"color: #00af00; text-decoration-color: #00af00\">20,480</span> │\n",
       "├─────────────────────────────────┼────────────────────────┼───────────────┤\n",
       "│ lstm_9 (<span style=\"color: #0087ff; text-decoration-color: #0087ff\">LSTM</span>)                   │ (<span style=\"color: #00d7ff; text-decoration-color: #00d7ff\">None</span>, <span style=\"color: #00af00; text-decoration-color: #00af00\">64</span>)             │        <span style=\"color: #00af00; text-decoration-color: #00af00\">33,024</span> │\n",
       "├─────────────────────────────────┼────────────────────────┼───────────────┤\n",
       "│ dense_4 (<span style=\"color: #0087ff; text-decoration-color: #0087ff\">Dense</span>)                 │ (<span style=\"color: #00d7ff; text-decoration-color: #00d7ff\">None</span>, <span style=\"color: #00af00; text-decoration-color: #00af00\">8</span>)              │           <span style=\"color: #00af00; text-decoration-color: #00af00\">520</span> │\n",
       "└─────────────────────────────────┴────────────────────────┴───────────────┘\n",
       "</pre>\n"
      ],
      "text/plain": [
       "┏━━━━━━━━━━━━━━━━━━━━━━━━━━━━━━━━━┳━━━━━━━━━━━━━━━━━━━━━━━━┳━━━━━━━━━━━━━━━┓\n",
       "┃\u001b[1m \u001b[0m\u001b[1mLayer (type)                   \u001b[0m\u001b[1m \u001b[0m┃\u001b[1m \u001b[0m\u001b[1mOutput Shape          \u001b[0m\u001b[1m \u001b[0m┃\u001b[1m \u001b[0m\u001b[1m      Param #\u001b[0m\u001b[1m \u001b[0m┃\n",
       "┡━━━━━━━━━━━━━━━━━━━━━━━━━━━━━━━━━╇━━━━━━━━━━━━━━━━━━━━━━━━╇━━━━━━━━━━━━━━━┩\n",
       "│ lstm_8 (\u001b[38;5;33mLSTM\u001b[0m)                   │ (\u001b[38;5;45mNone\u001b[0m, \u001b[38;5;34m339\u001b[0m, \u001b[38;5;34m64\u001b[0m)        │        \u001b[38;5;34m20,480\u001b[0m │\n",
       "├─────────────────────────────────┼────────────────────────┼───────────────┤\n",
       "│ lstm_9 (\u001b[38;5;33mLSTM\u001b[0m)                   │ (\u001b[38;5;45mNone\u001b[0m, \u001b[38;5;34m64\u001b[0m)             │        \u001b[38;5;34m33,024\u001b[0m │\n",
       "├─────────────────────────────────┼────────────────────────┼───────────────┤\n",
       "│ dense_4 (\u001b[38;5;33mDense\u001b[0m)                 │ (\u001b[38;5;45mNone\u001b[0m, \u001b[38;5;34m8\u001b[0m)              │           \u001b[38;5;34m520\u001b[0m │\n",
       "└─────────────────────────────────┴────────────────────────┴───────────────┘\n"
      ]
     },
     "metadata": {},
     "output_type": "display_data"
    },
    {
     "data": {
      "text/html": [
       "<pre style=\"white-space:pre;overflow-x:auto;line-height:normal;font-family:Menlo,'DejaVu Sans Mono',consolas,'Courier New',monospace\"><span style=\"font-weight: bold\"> Total params: </span><span style=\"color: #00af00; text-decoration-color: #00af00\">54,024</span> (211.03 KB)\n",
       "</pre>\n"
      ],
      "text/plain": [
       "\u001b[1m Total params: \u001b[0m\u001b[38;5;34m54,024\u001b[0m (211.03 KB)\n"
      ]
     },
     "metadata": {},
     "output_type": "display_data"
    },
    {
     "data": {
      "text/html": [
       "<pre style=\"white-space:pre;overflow-x:auto;line-height:normal;font-family:Menlo,'DejaVu Sans Mono',consolas,'Courier New',monospace\"><span style=\"font-weight: bold\"> Trainable params: </span><span style=\"color: #00af00; text-decoration-color: #00af00\">54,024</span> (211.03 KB)\n",
       "</pre>\n"
      ],
      "text/plain": [
       "\u001b[1m Trainable params: \u001b[0m\u001b[38;5;34m54,024\u001b[0m (211.03 KB)\n"
      ]
     },
     "metadata": {},
     "output_type": "display_data"
    },
    {
     "data": {
      "text/html": [
       "<pre style=\"white-space:pre;overflow-x:auto;line-height:normal;font-family:Menlo,'DejaVu Sans Mono',consolas,'Courier New',monospace\"><span style=\"font-weight: bold\"> Non-trainable params: </span><span style=\"color: #00af00; text-decoration-color: #00af00\">0</span> (0.00 B)\n",
       "</pre>\n"
      ],
      "text/plain": [
       "\u001b[1m Non-trainable params: \u001b[0m\u001b[38;5;34m0\u001b[0m (0.00 B)\n"
      ]
     },
     "metadata": {},
     "output_type": "display_data"
    },
    {
     "name": "stdout",
     "output_type": "stream",
     "text": [
      "None\n",
      "Epoch 1/340\n",
      "\u001b[1m1/1\u001b[0m \u001b[32m━━━━━━━━━━━━━━━━━━━━\u001b[0m\u001b[37m\u001b[0m \u001b[1m4s\u001b[0m 4s/step - categorical_accuracy: 0.2857 - loss: 2.4612 - val_categorical_accuracy: 0.0000e+00 - val_loss: 1.8061 - learning_rate: 0.0010\n",
      "Epoch 2/340\n",
      "\u001b[1m1/1\u001b[0m \u001b[32m━━━━━━━━━━━━━━━━━━━━\u001b[0m\u001b[37m\u001b[0m \u001b[1m1s\u001b[0m 654ms/step - categorical_accuracy: 0.1429 - loss: 1.7708 - val_categorical_accuracy: 1.0000 - val_loss: 1.3560 - learning_rate: 0.0010\n",
      "Epoch 3/340\n",
      "\u001b[1m1/1\u001b[0m \u001b[32m━━━━━━━━━━━━━━━━━━━━\u001b[0m\u001b[37m\u001b[0m \u001b[1m1s\u001b[0m 610ms/step - categorical_accuracy: 0.7143 - loss: 1.4209 - val_categorical_accuracy: 1.0000 - val_loss: 0.9413 - learning_rate: 0.0010\n",
      "Epoch 4/340\n",
      "\u001b[1m1/1\u001b[0m \u001b[32m━━━━━━━━━━━━━━━━━━━━\u001b[0m\u001b[37m\u001b[0m \u001b[1m0s\u001b[0m 349ms/step - categorical_accuracy: 0.7143 - loss: 1.1923 - val_categorical_accuracy: 1.0000 - val_loss: 0.6901 - learning_rate: 0.0010\n",
      "Epoch 5/340\n",
      "\u001b[1m1/1\u001b[0m \u001b[32m━━━━━━━━━━━━━━━━━━━━\u001b[0m\u001b[37m\u001b[0m \u001b[1m1s\u001b[0m 637ms/step - categorical_accuracy: 0.7143 - loss: 1.0542 - val_categorical_accuracy: 1.0000 - val_loss: 0.5374 - learning_rate: 0.0010\n",
      "Epoch 6/340\n",
      "\u001b[1m1/1\u001b[0m \u001b[32m━━━━━━━━━━━━━━━━━━━━\u001b[0m\u001b[37m\u001b[0m \u001b[1m1s\u001b[0m 589ms/step - categorical_accuracy: 0.7143 - loss: 0.9708 - val_categorical_accuracy: 1.0000 - val_loss: 0.4664 - learning_rate: 0.0010\n",
      "Epoch 7/340\n",
      "\u001b[1m1/1\u001b[0m \u001b[32m━━━━━━━━━━━━━━━━━━━━\u001b[0m\u001b[37m\u001b[0m \u001b[1m0s\u001b[0m 369ms/step - categorical_accuracy: 0.7143 - loss: 0.9162 - val_categorical_accuracy: 1.0000 - val_loss: 0.3889 - learning_rate: 0.0010\n",
      "Epoch 8/340\n",
      "\u001b[1m1/1\u001b[0m \u001b[32m━━━━━━━━━━━━━━━━━━━━\u001b[0m\u001b[37m\u001b[0m \u001b[1m1s\u001b[0m 604ms/step - categorical_accuracy: 0.7143 - loss: 0.8753 - val_categorical_accuracy: 1.0000 - val_loss: 0.3831 - learning_rate: 0.0010\n",
      "Epoch 9/340\n",
      "\u001b[1m1/1\u001b[0m \u001b[32m━━━━━━━━━━━━━━━━━━━━\u001b[0m\u001b[37m\u001b[0m \u001b[1m1s\u001b[0m 842ms/step - categorical_accuracy: 0.7143 - loss: 0.8431 - val_categorical_accuracy: 1.0000 - val_loss: 0.2851 - learning_rate: 0.0010\n",
      "Epoch 10/340\n",
      "\u001b[1m1/1\u001b[0m \u001b[32m━━━━━━━━━━━━━━━━━━━━\u001b[0m\u001b[37m\u001b[0m \u001b[1m1s\u001b[0m 545ms/step - categorical_accuracy: 0.7143 - loss: 0.8218 - val_categorical_accuracy: 1.0000 - val_loss: 0.4008 - learning_rate: 0.0010\n",
      "Epoch 11/340\n",
      "\u001b[1m1/1\u001b[0m \u001b[32m━━━━━━━━━━━━━━━━━━━━\u001b[0m\u001b[37m\u001b[0m \u001b[1m1s\u001b[0m 556ms/step - categorical_accuracy: 0.7143 - loss: 0.8146 - val_categorical_accuracy: 1.0000 - val_loss: 0.2768 - learning_rate: 0.0010\n",
      "Epoch 12/340\n",
      "\u001b[1m1/1\u001b[0m \u001b[32m━━━━━━━━━━━━━━━━━━━━\u001b[0m\u001b[37m\u001b[0m \u001b[1m1s\u001b[0m 698ms/step - categorical_accuracy: 0.7143 - loss: 0.7877 - val_categorical_accuracy: 1.0000 - val_loss: 0.2396 - learning_rate: 0.0010\n",
      "Epoch 13/340\n",
      "\u001b[1m1/1\u001b[0m \u001b[32m━━━━━━━━━━━━━━━━━━━━\u001b[0m\u001b[37m\u001b[0m \u001b[1m1s\u001b[0m 646ms/step - categorical_accuracy: 0.7143 - loss: 0.7612 - val_categorical_accuracy: 1.0000 - val_loss: 0.2283 - learning_rate: 0.0010\n",
      "Epoch 14/340\n",
      "\u001b[1m1/1\u001b[0m \u001b[32m━━━━━━━━━━━━━━━━━━━━\u001b[0m\u001b[37m\u001b[0m \u001b[1m1s\u001b[0m 950ms/step - categorical_accuracy: 0.7143 - loss: 0.7384 - val_categorical_accuracy: 1.0000 - val_loss: 0.2528 - learning_rate: 0.0010\n",
      "Epoch 15/340\n",
      "\u001b[1m1/1\u001b[0m \u001b[32m━━━━━━━━━━━━━━━━━━━━\u001b[0m\u001b[37m\u001b[0m \u001b[1m1s\u001b[0m 673ms/step - categorical_accuracy: 0.7143 - loss: 0.7471 - val_categorical_accuracy: 1.0000 - val_loss: 0.1266 - learning_rate: 0.0010\n",
      "Epoch 16/340\n",
      "\u001b[1m1/1\u001b[0m \u001b[32m━━━━━━━━━━━━━━━━━━━━\u001b[0m\u001b[37m\u001b[0m \u001b[1m1s\u001b[0m 550ms/step - categorical_accuracy: 0.7143 - loss: 0.8090 - val_categorical_accuracy: 1.0000 - val_loss: 0.7386 - learning_rate: 0.0010\n",
      "Epoch 17/340\n",
      "\u001b[1m1/1\u001b[0m \u001b[32m━━━━━━━━━━━━━━━━━━━━\u001b[0m\u001b[37m\u001b[0m \u001b[1m0s\u001b[0m 303ms/step - categorical_accuracy: 0.7143 - loss: 0.8207 - val_categorical_accuracy: 1.0000 - val_loss: 0.1902 - learning_rate: 0.0010\n",
      "Epoch 18/340\n",
      "\u001b[1m1/1\u001b[0m \u001b[32m━━━━━━━━━━━━━━━━━━━━\u001b[0m\u001b[37m\u001b[0m \u001b[1m0s\u001b[0m 346ms/step - categorical_accuracy: 0.7143 - loss: 0.7318 - val_categorical_accuracy: 1.0000 - val_loss: 0.2011 - learning_rate: 0.0010\n",
      "Epoch 19/340\n",
      "\u001b[1m1/1\u001b[0m \u001b[32m━━━━━━━━━━━━━━━━━━━━\u001b[0m\u001b[37m\u001b[0m \u001b[1m0s\u001b[0m 312ms/step - categorical_accuracy: 0.7143 - loss: 0.7043 - val_categorical_accuracy: 1.0000 - val_loss: 0.1825 - learning_rate: 0.0010\n",
      "Epoch 20/340\n",
      "\u001b[1m1/1\u001b[0m \u001b[32m━━━━━━━━━━━━━━━━━━━━\u001b[0m\u001b[37m\u001b[0m \u001b[1m0s\u001b[0m 311ms/step - categorical_accuracy: 0.7143 - loss: 0.7016 - val_categorical_accuracy: 1.0000 - val_loss: 0.1916 - learning_rate: 0.0010\n",
      "Epoch 21/340\n",
      "\u001b[1m1/1\u001b[0m \u001b[32m━━━━━━━━━━━━━━━━━━━━\u001b[0m\u001b[37m\u001b[0m \u001b[1m0s\u001b[0m 384ms/step - categorical_accuracy: 0.7143 - loss: 0.7449 - val_categorical_accuracy: 1.0000 - val_loss: 0.1172 - learning_rate: 0.0010\n",
      "Epoch 22/340\n",
      "\u001b[1m1/1\u001b[0m \u001b[32m━━━━━━━━━━━━━━━━━━━━\u001b[0m\u001b[37m\u001b[0m \u001b[1m1s\u001b[0m 526ms/step - categorical_accuracy: 0.7143 - loss: 0.6981 - val_categorical_accuracy: 1.0000 - val_loss: 0.2101 - learning_rate: 0.0010\n",
      "Epoch 23/340\n",
      "\u001b[1m1/1\u001b[0m \u001b[32m━━━━━━━━━━━━━━━━━━━━\u001b[0m\u001b[37m\u001b[0m \u001b[1m0s\u001b[0m 328ms/step - categorical_accuracy: 0.7143 - loss: 0.6585 - val_categorical_accuracy: 1.0000 - val_loss: 0.1289 - learning_rate: 0.0010\n",
      "Epoch 24/340\n",
      "\u001b[1m1/1\u001b[0m \u001b[32m━━━━━━━━━━━━━━━━━━━━\u001b[0m\u001b[37m\u001b[0m \u001b[1m0s\u001b[0m 297ms/step - categorical_accuracy: 0.7143 - loss: 0.6467 - val_categorical_accuracy: 1.0000 - val_loss: 0.1789 - learning_rate: 0.0010\n",
      "Epoch 25/340\n",
      "\u001b[1m1/1\u001b[0m \u001b[32m━━━━━━━━━━━━━━━━━━━━\u001b[0m\u001b[37m\u001b[0m \u001b[1m0s\u001b[0m 309ms/step - categorical_accuracy: 0.7143 - loss: 0.6279 - val_categorical_accuracy: 1.0000 - val_loss: 0.1287 - learning_rate: 0.0010\n",
      "Epoch 26/340\n",
      "\u001b[1m1/1\u001b[0m \u001b[32m━━━━━━━━━━━━━━━━━━━━\u001b[0m\u001b[37m\u001b[0m \u001b[1m0s\u001b[0m 294ms/step - categorical_accuracy: 0.7143 - loss: 0.6006 - val_categorical_accuracy: 1.0000 - val_loss: 0.1315 - learning_rate: 0.0010\n",
      "Epoch 27/340\n",
      "\u001b[1m1/1\u001b[0m \u001b[32m━━━━━━━━━━━━━━━━━━━━\u001b[0m\u001b[37m\u001b[0m \u001b[1m0s\u001b[0m 378ms/step - categorical_accuracy: 0.7143 - loss: 0.5801 - val_categorical_accuracy: 1.0000 - val_loss: 0.0987 - learning_rate: 0.0010\n",
      "Epoch 28/340\n",
      "\u001b[1m1/1\u001b[0m \u001b[32m━━━━━━━━━━━━━━━━━━━━\u001b[0m\u001b[37m\u001b[0m \u001b[1m1s\u001b[0m 538ms/step - categorical_accuracy: 0.7143 - loss: 0.5694 - val_categorical_accuracy: 1.0000 - val_loss: 0.1022 - learning_rate: 0.0010\n",
      "Epoch 29/340\n",
      "\u001b[1m1/1\u001b[0m \u001b[32m━━━━━━━━━━━━━━━━━━━━\u001b[0m\u001b[37m\u001b[0m \u001b[1m0s\u001b[0m 361ms/step - categorical_accuracy: 0.7143 - loss: 0.5603 - val_categorical_accuracy: 1.0000 - val_loss: 0.0860 - learning_rate: 0.0010\n",
      "Epoch 30/340\n",
      "\u001b[1m1/1\u001b[0m \u001b[32m━━━━━━━━━━━━━━━━━━━━\u001b[0m\u001b[37m\u001b[0m \u001b[1m1s\u001b[0m 568ms/step - categorical_accuracy: 0.7143 - loss: 0.5514 - val_categorical_accuracy: 1.0000 - val_loss: 0.0923 - learning_rate: 0.0010\n",
      "Epoch 31/340\n",
      "\u001b[1m1/1\u001b[0m \u001b[32m━━━━━━━━━━━━━━━━━━━━\u001b[0m\u001b[37m\u001b[0m \u001b[1m0s\u001b[0m 362ms/step - categorical_accuracy: 0.7143 - loss: 0.5659 - val_categorical_accuracy: 1.0000 - val_loss: 0.0827 - learning_rate: 0.0010\n",
      "Epoch 32/340\n",
      "\u001b[1m1/1\u001b[0m \u001b[32m━━━━━━━━━━━━━━━━━━━━\u001b[0m\u001b[37m\u001b[0m \u001b[1m0s\u001b[0m 340ms/step - categorical_accuracy: 0.7143 - loss: 0.8483 - val_categorical_accuracy: 1.0000 - val_loss: 0.0623 - learning_rate: 0.0010\n",
      "Epoch 33/340\n",
      "\u001b[1m1/1\u001b[0m \u001b[32m━━━━━━━━━━━━━━━━━━━━\u001b[0m\u001b[37m\u001b[0m \u001b[1m1s\u001b[0m 587ms/step - categorical_accuracy: 0.7143 - loss: 0.7850 - val_categorical_accuracy: 1.0000 - val_loss: 0.1123 - learning_rate: 0.0010\n",
      "Epoch 34/340\n",
      "\u001b[1m1/1\u001b[0m \u001b[32m━━━━━━━━━━━━━━━━━━━━\u001b[0m\u001b[37m\u001b[0m \u001b[1m0s\u001b[0m 335ms/step - categorical_accuracy: 0.7143 - loss: 0.7431 - val_categorical_accuracy: 1.0000 - val_loss: 0.0868 - learning_rate: 0.0010\n",
      "Epoch 35/340\n",
      "\u001b[1m1/1\u001b[0m \u001b[32m━━━━━━━━━━━━━━━━━━━━\u001b[0m\u001b[37m\u001b[0m \u001b[1m0s\u001b[0m 313ms/step - categorical_accuracy: 0.7143 - loss: 0.7182 - val_categorical_accuracy: 1.0000 - val_loss: 0.1046 - learning_rate: 0.0010\n",
      "Epoch 36/340\n",
      "\u001b[1m1/1\u001b[0m \u001b[32m━━━━━━━━━━━━━━━━━━━━\u001b[0m\u001b[37m\u001b[0m \u001b[1m0s\u001b[0m 311ms/step - categorical_accuracy: 0.7143 - loss: 0.7058 - val_categorical_accuracy: 1.0000 - val_loss: 0.0816 - learning_rate: 0.0010\n",
      "Epoch 37/340\n",
      "\u001b[1m1/1\u001b[0m \u001b[32m━━━━━━━━━━━━━━━━━━━━\u001b[0m\u001b[37m\u001b[0m \u001b[1m0s\u001b[0m 331ms/step - categorical_accuracy: 0.7143 - loss: 0.6987 - val_categorical_accuracy: 1.0000 - val_loss: 0.1064 - learning_rate: 0.0010\n",
      "Epoch 38/340\n",
      "\u001b[1m1/1\u001b[0m \u001b[32m━━━━━━━━━━━━━━━━━━━━\u001b[0m\u001b[37m\u001b[0m \u001b[1m0s\u001b[0m 358ms/step - categorical_accuracy: 0.7143 - loss: 0.6967 - val_categorical_accuracy: 1.0000 - val_loss: 0.0602 - learning_rate: 0.0010\n",
      "Epoch 39/340\n",
      "\u001b[1m1/1\u001b[0m \u001b[32m━━━━━━━━━━━━━━━━━━━━\u001b[0m\u001b[37m\u001b[0m \u001b[1m1s\u001b[0m 747ms/step - categorical_accuracy: 0.7143 - loss: 0.6997 - val_categorical_accuracy: 1.0000 - val_loss: 0.1400 - learning_rate: 0.0010\n",
      "Epoch 40/340\n",
      "\u001b[1m1/1\u001b[0m \u001b[32m━━━━━━━━━━━━━━━━━━━━\u001b[0m\u001b[37m\u001b[0m \u001b[1m1s\u001b[0m 623ms/step - categorical_accuracy: 0.7143 - loss: 0.7079 - val_categorical_accuracy: 1.0000 - val_loss: 0.0505 - learning_rate: 0.0010\n",
      "Epoch 41/340\n",
      "\u001b[1m1/1\u001b[0m \u001b[32m━━━━━━━━━━━━━━━━━━━━\u001b[0m\u001b[37m\u001b[0m \u001b[1m1s\u001b[0m 512ms/step - categorical_accuracy: 0.7143 - loss: 0.6942 - val_categorical_accuracy: 1.0000 - val_loss: 0.0945 - learning_rate: 0.0010\n",
      "Epoch 42/340\n",
      "\u001b[1m1/1\u001b[0m \u001b[32m━━━━━━━━━━━━━━━━━━━━\u001b[0m\u001b[37m\u001b[0m \u001b[1m1s\u001b[0m 615ms/step - categorical_accuracy: 0.7143 - loss: 0.6838 - val_categorical_accuracy: 1.0000 - val_loss: 0.0516 - learning_rate: 0.0010\n",
      "Epoch 43/340\n",
      "\u001b[1m1/1\u001b[0m \u001b[32m━━━━━━━━━━━━━━━━━━━━\u001b[0m\u001b[37m\u001b[0m \u001b[1m1s\u001b[0m 529ms/step - categorical_accuracy: 0.7143 - loss: 0.6709 - val_categorical_accuracy: 1.0000 - val_loss: 0.1287 - learning_rate: 0.0010\n",
      "Epoch 44/340\n",
      "\u001b[1m1/1\u001b[0m \u001b[32m━━━━━━━━━━━━━━━━━━━━\u001b[0m\u001b[37m\u001b[0m \u001b[1m1s\u001b[0m 655ms/step - categorical_accuracy: 0.7143 - loss: 0.6847 - val_categorical_accuracy: 1.0000 - val_loss: 0.0392 - learning_rate: 0.0010\n",
      "Epoch 45/340\n",
      "\u001b[1m1/1\u001b[0m \u001b[32m━━━━━━━━━━━━━━━━━━━━\u001b[0m\u001b[37m\u001b[0m \u001b[1m1s\u001b[0m 916ms/step - categorical_accuracy: 0.7143 - loss: 0.6668 - val_categorical_accuracy: 1.0000 - val_loss: 0.0688 - learning_rate: 0.0010\n",
      "Epoch 46/340\n",
      "\u001b[1m1/1\u001b[0m \u001b[32m━━━━━━━━━━━━━━━━━━━━\u001b[0m\u001b[37m\u001b[0m \u001b[1m0s\u001b[0m 309ms/step - categorical_accuracy: 0.7143 - loss: 0.6584 - val_categorical_accuracy: 1.0000 - val_loss: 0.0553 - learning_rate: 0.0010\n",
      "Epoch 47/340\n",
      "\u001b[1m1/1\u001b[0m \u001b[32m━━━━━━━━━━━━━━━━━━━━\u001b[0m\u001b[37m\u001b[0m \u001b[1m0s\u001b[0m 316ms/step - categorical_accuracy: 0.7143 - loss: 0.6491 - val_categorical_accuracy: 1.0000 - val_loss: 0.3754 - learning_rate: 0.0010\n",
      "Epoch 48/340\n",
      "\u001b[1m1/1\u001b[0m \u001b[32m━━━━━━━━━━━━━━━━━━━━\u001b[0m\u001b[37m\u001b[0m \u001b[1m0s\u001b[0m 292ms/step - categorical_accuracy: 0.5714 - loss: 0.7766 - val_categorical_accuracy: 1.0000 - val_loss: 0.0476 - learning_rate: 0.0010\n",
      "Epoch 49/340\n",
      "\u001b[1m1/1\u001b[0m \u001b[32m━━━━━━━━━━━━━━━━━━━━\u001b[0m\u001b[37m\u001b[0m \u001b[1m0s\u001b[0m 338ms/step - categorical_accuracy: 0.7143 - loss: 0.7299 - val_categorical_accuracy: 1.0000 - val_loss: 0.0753 - learning_rate: 0.0010\n",
      "Epoch 50/340\n",
      "\u001b[1m1/1\u001b[0m \u001b[32m━━━━━━━━━━━━━━━━━━━━\u001b[0m\u001b[37m\u001b[0m \u001b[1m0s\u001b[0m 292ms/step - categorical_accuracy: 0.7143 - loss: 0.6671 - val_categorical_accuracy: 1.0000 - val_loss: 0.0567 - learning_rate: 0.0010\n",
      "Epoch 51/340\n",
      "\u001b[1m1/1\u001b[0m \u001b[32m━━━━━━━━━━━━━━━━━━━━\u001b[0m\u001b[37m\u001b[0m \u001b[1m0s\u001b[0m 308ms/step - categorical_accuracy: 0.7143 - loss: 0.6412 - val_categorical_accuracy: 1.0000 - val_loss: 0.0569 - learning_rate: 0.0010\n",
      "Epoch 52/340\n",
      "\u001b[1m1/1\u001b[0m \u001b[32m━━━━━━━━━━━━━━━━━━━━\u001b[0m\u001b[37m\u001b[0m \u001b[1m0s\u001b[0m 300ms/step - categorical_accuracy: 0.7143 - loss: 0.5958 - val_categorical_accuracy: 1.0000 - val_loss: 0.0468 - learning_rate: 0.0010\n",
      "Epoch 53/340\n",
      "\u001b[1m1/1\u001b[0m \u001b[32m━━━━━━━━━━━━━━━━━━━━\u001b[0m\u001b[37m\u001b[0m \u001b[1m0s\u001b[0m 323ms/step - categorical_accuracy: 0.7143 - loss: 0.5678 - val_categorical_accuracy: 1.0000 - val_loss: 0.0675 - learning_rate: 0.0010\n",
      "Epoch 54/340\n",
      "\u001b[1m1/1\u001b[0m \u001b[32m━━━━━━━━━━━━━━━━━━━━\u001b[0m\u001b[37m\u001b[0m \u001b[1m1s\u001b[0m 631ms/step - categorical_accuracy: 0.7143 - loss: 0.5536 - val_categorical_accuracy: 1.0000 - val_loss: 0.0387 - learning_rate: 0.0010\n",
      "Epoch 55/340\n",
      "\u001b[1m1/1\u001b[0m \u001b[32m━━━━━━━━━━━━━━━━━━━━\u001b[0m\u001b[37m\u001b[0m \u001b[1m1s\u001b[0m 619ms/step - categorical_accuracy: 0.7143 - loss: 0.5270 - val_categorical_accuracy: 1.0000 - val_loss: 0.0316 - learning_rate: 0.0010\n",
      "Epoch 56/340\n",
      "\u001b[1m1/1\u001b[0m \u001b[32m━━━━━━━━━━━━━━━━━━━━\u001b[0m\u001b[37m\u001b[0m \u001b[1m0s\u001b[0m 316ms/step - categorical_accuracy: 0.7143 - loss: 0.5176 - val_categorical_accuracy: 1.0000 - val_loss: 0.0317 - learning_rate: 0.0010\n",
      "Epoch 57/340\n",
      "\u001b[1m1/1\u001b[0m \u001b[32m━━━━━━━━━━━━━━━━━━━━\u001b[0m\u001b[37m\u001b[0m \u001b[1m1s\u001b[0m 663ms/step - categorical_accuracy: 0.7143 - loss: 0.5118 - val_categorical_accuracy: 1.0000 - val_loss: 0.0289 - learning_rate: 0.0010\n",
      "Epoch 58/340\n",
      "\u001b[1m1/1\u001b[0m \u001b[32m━━━━━━━━━━━━━━━━━━━━\u001b[0m\u001b[37m\u001b[0m \u001b[1m0s\u001b[0m 299ms/step - categorical_accuracy: 0.7143 - loss: 0.5065 - val_categorical_accuracy: 1.0000 - val_loss: 0.0292 - learning_rate: 0.0010\n",
      "Epoch 59/340\n",
      "\u001b[1m1/1\u001b[0m \u001b[32m━━━━━━━━━━━━━━━━━━━━\u001b[0m\u001b[37m\u001b[0m \u001b[1m0s\u001b[0m 311ms/step - categorical_accuracy: 0.7143 - loss: 0.5003 - val_categorical_accuracy: 1.0000 - val_loss: 0.0417 - learning_rate: 0.0010\n",
      "Epoch 60/340\n",
      "\u001b[1m1/1\u001b[0m \u001b[32m━━━━━━━━━━━━━━━━━━━━\u001b[0m\u001b[37m\u001b[0m \u001b[1m0s\u001b[0m 335ms/step - categorical_accuracy: 0.7143 - loss: 0.4996 - val_categorical_accuracy: 1.0000 - val_loss: 0.0211 - learning_rate: 0.0010\n",
      "Epoch 61/340\n",
      "\u001b[1m1/1\u001b[0m \u001b[32m━━━━━━━━━━━━━━━━━━━━\u001b[0m\u001b[37m\u001b[0m \u001b[1m0s\u001b[0m 318ms/step - categorical_accuracy: 0.7143 - loss: 0.4785 - val_categorical_accuracy: 1.0000 - val_loss: 0.0309 - learning_rate: 0.0010\n",
      "Epoch 62/340\n",
      "\u001b[1m1/1\u001b[0m \u001b[32m━━━━━━━━━━━━━━━━━━━━\u001b[0m\u001b[37m\u001b[0m \u001b[1m1s\u001b[0m 589ms/step - categorical_accuracy: 0.7143 - loss: 0.7293 - val_categorical_accuracy: 1.0000 - val_loss: 0.1670 - learning_rate: 0.0010\n",
      "Epoch 63/340\n",
      "\u001b[1m1/1\u001b[0m \u001b[32m━━━━━━━━━━━━━━━━━━━━\u001b[0m\u001b[37m\u001b[0m \u001b[1m0s\u001b[0m 315ms/step - categorical_accuracy: 0.7143 - loss: 0.5473 - val_categorical_accuracy: 1.0000 - val_loss: 0.1123 - learning_rate: 0.0010\n",
      "Epoch 64/340\n",
      "\u001b[1m1/1\u001b[0m \u001b[32m━━━━━━━━━━━━━━━━━━━━\u001b[0m\u001b[37m\u001b[0m \u001b[1m0s\u001b[0m 316ms/step - categorical_accuracy: 0.7143 - loss: 0.5266 - val_categorical_accuracy: 1.0000 - val_loss: 0.0635 - learning_rate: 0.0010\n",
      "Epoch 65/340\n",
      "\u001b[1m1/1\u001b[0m \u001b[32m━━━━━━━━━━━━━━━━━━━━\u001b[0m\u001b[37m\u001b[0m \u001b[1m0s\u001b[0m 371ms/step - categorical_accuracy: 0.7143 - loss: 0.5598 - val_categorical_accuracy: 1.0000 - val_loss: 0.0202 - learning_rate: 0.0010\n",
      "Epoch 66/340\n",
      "\u001b[1m1/1\u001b[0m \u001b[32m━━━━━━━━━━━━━━━━━━━━\u001b[0m\u001b[37m\u001b[0m \u001b[1m1s\u001b[0m 577ms/step - categorical_accuracy: 0.8571 - loss: 0.7692 - val_categorical_accuracy: 1.0000 - val_loss: 0.0431 - learning_rate: 0.0010\n",
      "Epoch 67/340\n",
      "\u001b[1m1/1\u001b[0m \u001b[32m━━━━━━━━━━━━━━━━━━━━\u001b[0m\u001b[37m\u001b[0m \u001b[1m1s\u001b[0m 647ms/step - categorical_accuracy: 0.7143 - loss: 0.6474 - val_categorical_accuracy: 1.0000 - val_loss: 0.0174 - learning_rate: 0.0010\n",
      "Epoch 68/340\n",
      "\u001b[1m1/1\u001b[0m \u001b[32m━━━━━━━━━━━━━━━━━━━━\u001b[0m\u001b[37m\u001b[0m \u001b[1m1s\u001b[0m 747ms/step - categorical_accuracy: 0.7143 - loss: 0.5371 - val_categorical_accuracy: 1.0000 - val_loss: 0.0572 - learning_rate: 0.0010\n",
      "Epoch 69/340\n",
      "\u001b[1m1/1\u001b[0m \u001b[32m━━━━━━━━━━━━━━━━━━━━\u001b[0m\u001b[37m\u001b[0m \u001b[1m0s\u001b[0m 489ms/step - categorical_accuracy: 0.7143 - loss: 0.4697 - val_categorical_accuracy: 1.0000 - val_loss: 0.0182 - learning_rate: 0.0010\n",
      "Epoch 70/340\n",
      "\u001b[1m1/1\u001b[0m \u001b[32m━━━━━━━━━━━━━━━━━━━━\u001b[0m\u001b[37m\u001b[0m \u001b[1m1s\u001b[0m 653ms/step - categorical_accuracy: 0.8571 - loss: 0.4237 - val_categorical_accuracy: 1.0000 - val_loss: 0.0255 - learning_rate: 0.0010\n",
      "Epoch 71/340\n",
      "\u001b[1m1/1\u001b[0m \u001b[32m━━━━━━━━━━━━━━━━━━━━\u001b[0m\u001b[37m\u001b[0m \u001b[1m0s\u001b[0m 486ms/step - categorical_accuracy: 0.8571 - loss: 0.4056 - val_categorical_accuracy: 1.0000 - val_loss: 0.0183 - learning_rate: 0.0010\n",
      "Epoch 72/340\n",
      "\u001b[1m1/1\u001b[0m \u001b[32m━━━━━━━━━━━━━━━━━━━━\u001b[0m\u001b[37m\u001b[0m \u001b[1m1s\u001b[0m 732ms/step - categorical_accuracy: 0.8571 - loss: 0.3936 - val_categorical_accuracy: 1.0000 - val_loss: 0.0334 - learning_rate: 0.0010\n",
      "Epoch 73/340\n",
      "\u001b[1m1/1\u001b[0m \u001b[32m━━━━━━━━━━━━━━━━━━━━\u001b[0m\u001b[37m\u001b[0m \u001b[1m1s\u001b[0m 645ms/step - categorical_accuracy: 0.8571 - loss: 0.3894 - val_categorical_accuracy: 1.0000 - val_loss: 0.0173 - learning_rate: 0.0010\n",
      "Epoch 74/340\n",
      "\u001b[1m1/1\u001b[0m \u001b[32m━━━━━━━━━━━━━━━━━━━━\u001b[0m\u001b[37m\u001b[0m \u001b[1m0s\u001b[0m 325ms/step - categorical_accuracy: 0.8571 - loss: 0.3758 - val_categorical_accuracy: 1.0000 - val_loss: 0.0263 - learning_rate: 0.0010\n",
      "Epoch 75/340\n",
      "\u001b[1m1/1\u001b[0m \u001b[32m━━━━━━━━━━━━━━━━━━━━\u001b[0m\u001b[37m\u001b[0m \u001b[1m0s\u001b[0m 375ms/step - categorical_accuracy: 0.8571 - loss: 0.3694 - val_categorical_accuracy: 1.0000 - val_loss: 0.0171 - learning_rate: 0.0010\n",
      "Epoch 76/340\n",
      "\u001b[1m1/1\u001b[0m \u001b[32m━━━━━━━━━━━━━━━━━━━━\u001b[0m\u001b[37m\u001b[0m \u001b[1m1s\u001b[0m 588ms/step - categorical_accuracy: 0.8571 - loss: 0.3640 - val_categorical_accuracy: 1.0000 - val_loss: 0.0253 - learning_rate: 0.0010\n",
      "Epoch 77/340\n",
      "\u001b[1m1/1\u001b[0m \u001b[32m━━━━━━━━━━━━━━━━━━━━\u001b[0m\u001b[37m\u001b[0m \u001b[1m1s\u001b[0m 640ms/step - categorical_accuracy: 0.8571 - loss: 0.3597 - val_categorical_accuracy: 1.0000 - val_loss: 0.0156 - learning_rate: 0.0010\n",
      "Epoch 78/340\n",
      "\u001b[1m1/1\u001b[0m \u001b[32m━━━━━━━━━━━━━━━━━━━━\u001b[0m\u001b[37m\u001b[0m \u001b[1m1s\u001b[0m 547ms/step - categorical_accuracy: 0.8571 - loss: 0.3554 - val_categorical_accuracy: 1.0000 - val_loss: 0.0262 - learning_rate: 0.0010\n",
      "Epoch 79/340\n",
      "\u001b[1m1/1\u001b[0m \u001b[32m━━━━━━━━━━━━━━━━━━━━\u001b[0m\u001b[37m\u001b[0m \u001b[1m0s\u001b[0m 357ms/step - categorical_accuracy: 0.8571 - loss: 0.3529 - val_categorical_accuracy: 1.0000 - val_loss: 0.0134 - learning_rate: 0.0010\n",
      "Epoch 80/340\n",
      "\u001b[1m1/1\u001b[0m \u001b[32m━━━━━━━━━━━━━━━━━━━━\u001b[0m\u001b[37m\u001b[0m \u001b[1m0s\u001b[0m 311ms/step - categorical_accuracy: 0.8571 - loss: 0.3481 - val_categorical_accuracy: 1.0000 - val_loss: 0.0280 - learning_rate: 0.0010\n",
      "Epoch 81/340\n",
      "\u001b[1m1/1\u001b[0m \u001b[32m━━━━━━━━━━━━━━━━━━━━\u001b[0m\u001b[37m\u001b[0m \u001b[1m0s\u001b[0m 337ms/step - categorical_accuracy: 0.8571 - loss: 0.3528 - val_categorical_accuracy: 1.0000 - val_loss: 0.0120 - learning_rate: 0.0010\n",
      "Epoch 82/340\n",
      "\u001b[1m1/1\u001b[0m \u001b[32m━━━━━━━━━━━━━━━━━━━━\u001b[0m\u001b[37m\u001b[0m \u001b[1m0s\u001b[0m 302ms/step - categorical_accuracy: 0.8571 - loss: 0.3407 - val_categorical_accuracy: 1.0000 - val_loss: 0.0150 - learning_rate: 0.0010\n",
      "Epoch 83/340\n",
      "\u001b[1m1/1\u001b[0m \u001b[32m━━━━━━━━━━━━━━━━━━━━\u001b[0m\u001b[37m\u001b[0m \u001b[1m0s\u001b[0m 364ms/step - categorical_accuracy: 0.8571 - loss: 0.3269 - val_categorical_accuracy: 1.0000 - val_loss: 0.0111 - learning_rate: 0.0010\n",
      "Epoch 84/340\n",
      "\u001b[1m1/1\u001b[0m \u001b[32m━━━━━━━━━━━━━━━━━━━━\u001b[0m\u001b[37m\u001b[0m \u001b[1m1s\u001b[0m 559ms/step - categorical_accuracy: 0.7143 - loss: 0.6184 - val_categorical_accuracy: 1.0000 - val_loss: 0.0802 - learning_rate: 0.0010\n",
      "Epoch 85/340\n",
      "\u001b[1m1/1\u001b[0m \u001b[32m━━━━━━━━━━━━━━━━━━━━\u001b[0m\u001b[37m\u001b[0m \u001b[1m0s\u001b[0m 298ms/step - categorical_accuracy: 0.7143 - loss: 0.6576 - val_categorical_accuracy: 1.0000 - val_loss: 0.0901 - learning_rate: 0.0010\n",
      "Epoch 86/340\n",
      "\u001b[1m1/1\u001b[0m \u001b[32m━━━━━━━━━━━━━━━━━━━━\u001b[0m\u001b[37m\u001b[0m \u001b[1m0s\u001b[0m 330ms/step - categorical_accuracy: 0.7143 - loss: 0.6907 - val_categorical_accuracy: 1.0000 - val_loss: 0.0592 - learning_rate: 0.0010\n",
      "Epoch 87/340\n",
      "\u001b[1m1/1\u001b[0m \u001b[32m━━━━━━━━━━━━━━━━━━━━\u001b[0m\u001b[37m\u001b[0m \u001b[1m1s\u001b[0m 609ms/step - categorical_accuracy: 0.7143 - loss: 0.6084 - val_categorical_accuracy: 1.0000 - val_loss: 0.0770 - learning_rate: 0.0010\n",
      "Epoch 88/340\n",
      "\u001b[1m1/1\u001b[0m \u001b[32m━━━━━━━━━━━━━━━━━━━━\u001b[0m\u001b[37m\u001b[0m \u001b[1m0s\u001b[0m 400ms/step - categorical_accuracy: 0.7143 - loss: 0.4382 - val_categorical_accuracy: 1.0000 - val_loss: 0.6555 - learning_rate: 0.0010\n",
      "Epoch 89/340\n",
      "\u001b[1m1/1\u001b[0m \u001b[32m━━━━━━━━━━━━━━━━━━━━\u001b[0m\u001b[37m\u001b[0m \u001b[1m1s\u001b[0m 515ms/step - categorical_accuracy: 0.4286 - loss: 0.9548 - val_categorical_accuracy: 1.0000 - val_loss: 0.1973 - learning_rate: 0.0010\n",
      "Epoch 90/340\n",
      "\u001b[1m1/1\u001b[0m \u001b[32m━━━━━━━━━━━━━━━━━━━━\u001b[0m\u001b[37m\u001b[0m \u001b[1m0s\u001b[0m 296ms/step - categorical_accuracy: 0.7143 - loss: 0.7309 - val_categorical_accuracy: 1.0000 - val_loss: 0.1535 - learning_rate: 0.0010\n",
      "Epoch 91/340\n",
      "\u001b[1m1/1\u001b[0m \u001b[32m━━━━━━━━━━━━━━━━━━━━\u001b[0m\u001b[37m\u001b[0m \u001b[1m0s\u001b[0m 336ms/step - categorical_accuracy: 0.7143 - loss: 0.7060 - val_categorical_accuracy: 1.0000 - val_loss: 0.1383 - learning_rate: 0.0010\n",
      "Epoch 92/340\n",
      "\u001b[1m1/1\u001b[0m \u001b[32m━━━━━━━━━━━━━━━━━━━━\u001b[0m\u001b[37m\u001b[0m \u001b[1m1s\u001b[0m 586ms/step - categorical_accuracy: 0.7143 - loss: 0.6819 - val_categorical_accuracy: 1.0000 - val_loss: 0.1274 - learning_rate: 0.0010\n",
      "Epoch 93/340\n",
      "\u001b[1m1/1\u001b[0m \u001b[32m━━━━━━━━━━━━━━━━━━━━\u001b[0m\u001b[37m\u001b[0m \u001b[1m0s\u001b[0m 324ms/step - categorical_accuracy: 0.7143 - loss: 0.6457 - val_categorical_accuracy: 1.0000 - val_loss: 0.1170 - learning_rate: 0.0010\n",
      "Epoch 94/340\n",
      "\u001b[1m1/1\u001b[0m \u001b[32m━━━━━━━━━━━━━━━━━━━━\u001b[0m\u001b[37m\u001b[0m \u001b[1m1s\u001b[0m 611ms/step - categorical_accuracy: 0.7143 - loss: 0.5956 - val_categorical_accuracy: 1.0000 - val_loss: 0.1155 - learning_rate: 0.0010\n",
      "Epoch 95/340\n",
      "\u001b[1m1/1\u001b[0m \u001b[32m━━━━━━━━━━━━━━━━━━━━\u001b[0m\u001b[37m\u001b[0m \u001b[1m0s\u001b[0m 314ms/step - categorical_accuracy: 0.7143 - loss: 0.5354 - val_categorical_accuracy: 1.0000 - val_loss: 0.1028 - learning_rate: 0.0010\n",
      "Epoch 96/340\n",
      "\u001b[1m1/1\u001b[0m \u001b[32m━━━━━━━━━━━━━━━━━━━━\u001b[0m\u001b[37m\u001b[0m \u001b[1m0s\u001b[0m 300ms/step - categorical_accuracy: 0.8571 - loss: 0.4837 - val_categorical_accuracy: 1.0000 - val_loss: 0.0305 - learning_rate: 0.0010\n",
      "Epoch 97/340\n",
      "\u001b[1m1/1\u001b[0m \u001b[32m━━━━━━━━━━━━━━━━━━━━\u001b[0m\u001b[37m\u001b[0m \u001b[1m0s\u001b[0m 449ms/step - categorical_accuracy: 0.8571 - loss: 0.4499 - val_categorical_accuracy: 0.0000e+00 - val_loss: 0.8301 - learning_rate: 0.0010\n",
      "Epoch 98/340\n",
      "\u001b[1m1/1\u001b[0m \u001b[32m━━━━━━━━━━━━━━━━━━━━\u001b[0m\u001b[37m\u001b[0m \u001b[1m1s\u001b[0m 670ms/step - categorical_accuracy: 0.4286 - loss: 0.8492 - val_categorical_accuracy: 1.0000 - val_loss: 0.0301 - learning_rate: 0.0010\n",
      "Epoch 99/340\n",
      "\u001b[1m1/1\u001b[0m \u001b[32m━━━━━━━━━━━━━━━━━━━━\u001b[0m\u001b[37m\u001b[0m \u001b[1m0s\u001b[0m 484ms/step - categorical_accuracy: 0.7143 - loss: 0.6177 - val_categorical_accuracy: 1.0000 - val_loss: 0.0301 - learning_rate: 0.0010\n",
      "Epoch 100/340\n",
      "\u001b[1m1/1\u001b[0m \u001b[32m━━━━━━━━━━━━━━━━━━━━\u001b[0m\u001b[37m\u001b[0m \u001b[1m1s\u001b[0m 729ms/step - categorical_accuracy: 0.5714 - loss: 0.8031 - val_categorical_accuracy: 1.0000 - val_loss: 0.0158 - learning_rate: 0.0010\n",
      "Epoch 101/340\n",
      "\u001b[1m1/1\u001b[0m \u001b[32m━━━━━━━━━━━━━━━━━━━━\u001b[0m\u001b[37m\u001b[0m \u001b[1m1s\u001b[0m 547ms/step - categorical_accuracy: 0.7143 - loss: 0.5433 - val_categorical_accuracy: 1.0000 - val_loss: 0.0164 - learning_rate: 0.0010\n",
      "Epoch 102/340\n",
      "\u001b[1m1/1\u001b[0m \u001b[32m━━━━━━━━━━━━━━━━━━━━\u001b[0m\u001b[37m\u001b[0m \u001b[1m1s\u001b[0m 692ms/step - categorical_accuracy: 0.8571 - loss: 0.4816 - val_categorical_accuracy: 1.0000 - val_loss: 0.0143 - learning_rate: 0.0010\n",
      "Epoch 103/340\n",
      "\u001b[1m1/1\u001b[0m \u001b[32m━━━━━━━━━━━━━━━━━━━━\u001b[0m\u001b[37m\u001b[0m \u001b[1m0s\u001b[0m 417ms/step - categorical_accuracy: 0.8571 - loss: 0.4447 - val_categorical_accuracy: 1.0000 - val_loss: 0.0143 - learning_rate: 1.0000e-04\n",
      "Epoch 104/340\n",
      "\u001b[1m1/1\u001b[0m \u001b[32m━━━━━━━━━━━━━━━━━━━━\u001b[0m\u001b[37m\u001b[0m \u001b[1m1s\u001b[0m 562ms/step - categorical_accuracy: 0.8571 - loss: 0.4421 - val_categorical_accuracy: 1.0000 - val_loss: 0.0142 - learning_rate: 1.0000e-04\n",
      "Epoch 105/340\n",
      "\u001b[1m1/1\u001b[0m \u001b[32m━━━━━━━━━━━━━━━━━━━━\u001b[0m\u001b[37m\u001b[0m \u001b[1m1s\u001b[0m 639ms/step - categorical_accuracy: 0.8571 - loss: 0.4394 - val_categorical_accuracy: 1.0000 - val_loss: 0.0142 - learning_rate: 1.0000e-04\n",
      "Epoch 106/340\n",
      "\u001b[1m1/1\u001b[0m \u001b[32m━━━━━━━━━━━━━━━━━━━━\u001b[0m\u001b[37m\u001b[0m \u001b[1m1s\u001b[0m 589ms/step - categorical_accuracy: 0.8571 - loss: 0.4368 - val_categorical_accuracy: 1.0000 - val_loss: 0.0142 - learning_rate: 1.0000e-04\n",
      "Epoch 107/340\n",
      "\u001b[1m1/1\u001b[0m \u001b[32m━━━━━━━━━━━━━━━━━━━━\u001b[0m\u001b[37m\u001b[0m \u001b[1m0s\u001b[0m 323ms/step - categorical_accuracy: 0.8571 - loss: 0.4342 - val_categorical_accuracy: 1.0000 - val_loss: 0.0142 - learning_rate: 1.0000e-04\n",
      "Epoch 108/340\n",
      "\u001b[1m1/1\u001b[0m \u001b[32m━━━━━━━━━━━━━━━━━━━━\u001b[0m\u001b[37m\u001b[0m \u001b[1m0s\u001b[0m 314ms/step - categorical_accuracy: 0.8571 - loss: 0.4316 - val_categorical_accuracy: 1.0000 - val_loss: 0.0141 - learning_rate: 1.0000e-04\n",
      "Epoch 109/340\n",
      "\u001b[1m1/1\u001b[0m \u001b[32m━━━━━━━━━━━━━━━━━━━━\u001b[0m\u001b[37m\u001b[0m \u001b[1m1s\u001b[0m 593ms/step - categorical_accuracy: 0.8571 - loss: 0.4291 - val_categorical_accuracy: 1.0000 - val_loss: 0.0141 - learning_rate: 1.0000e-04\n",
      "Epoch 110/340\n",
      "\u001b[1m1/1\u001b[0m \u001b[32m━━━━━━━━━━━━━━━━━━━━\u001b[0m\u001b[37m\u001b[0m \u001b[1m1s\u001b[0m 640ms/step - categorical_accuracy: 0.8571 - loss: 0.4265 - val_categorical_accuracy: 1.0000 - val_loss: 0.0140 - learning_rate: 1.0000e-04\n",
      "Epoch 111/340\n",
      "\u001b[1m1/1\u001b[0m \u001b[32m━━━━━━━━━━━━━━━━━━━━\u001b[0m\u001b[37m\u001b[0m \u001b[1m0s\u001b[0m 315ms/step - categorical_accuracy: 0.8571 - loss: 0.4240 - val_categorical_accuracy: 1.0000 - val_loss: 0.0140 - learning_rate: 1.0000e-04\n",
      "Epoch 112/340\n",
      "\u001b[1m1/1\u001b[0m \u001b[32m━━━━━━━━━━━━━━━━━━━━\u001b[0m\u001b[37m\u001b[0m \u001b[1m0s\u001b[0m 338ms/step - categorical_accuracy: 0.8571 - loss: 0.4215 - val_categorical_accuracy: 1.0000 - val_loss: 0.0140 - learning_rate: 1.0000e-04\n",
      "Epoch 113/340\n",
      "\u001b[1m1/1\u001b[0m \u001b[32m━━━━━━━━━━━━━━━━━━━━\u001b[0m\u001b[37m\u001b[0m \u001b[1m0s\u001b[0m 301ms/step - categorical_accuracy: 0.8571 - loss: 0.4190 - val_categorical_accuracy: 1.0000 - val_loss: 0.0139 - learning_rate: 1.0000e-04\n",
      "Epoch 114/340\n",
      "\u001b[1m1/1\u001b[0m \u001b[32m━━━━━━━━━━━━━━━━━━━━\u001b[0m\u001b[37m\u001b[0m \u001b[1m0s\u001b[0m 314ms/step - categorical_accuracy: 0.8571 - loss: 0.4165 - val_categorical_accuracy: 1.0000 - val_loss: 0.0139 - learning_rate: 1.0000e-04\n",
      "Epoch 115/340\n",
      "\u001b[1m1/1\u001b[0m \u001b[32m━━━━━━━━━━━━━━━━━━━━\u001b[0m\u001b[37m\u001b[0m \u001b[1m0s\u001b[0m 332ms/step - categorical_accuracy: 0.8571 - loss: 0.4141 - val_categorical_accuracy: 1.0000 - val_loss: 0.0138 - learning_rate: 1.0000e-04\n",
      "Epoch 116/340\n",
      "\u001b[1m1/1\u001b[0m \u001b[32m━━━━━━━━━━━━━━━━━━━━\u001b[0m\u001b[37m\u001b[0m \u001b[1m0s\u001b[0m 309ms/step - categorical_accuracy: 0.8571 - loss: 0.4116 - val_categorical_accuracy: 1.0000 - val_loss: 0.0138 - learning_rate: 1.0000e-04\n",
      "Epoch 117/340\n",
      "\u001b[1m1/1\u001b[0m \u001b[32m━━━━━━━━━━━━━━━━━━━━\u001b[0m\u001b[37m\u001b[0m \u001b[1m0s\u001b[0m 312ms/step - categorical_accuracy: 0.8571 - loss: 0.4092 - val_categorical_accuracy: 1.0000 - val_loss: 0.0137 - learning_rate: 1.0000e-04\n",
      "Epoch 118/340\n",
      "\u001b[1m1/1\u001b[0m \u001b[32m━━━━━━━━━━━━━━━━━━━━\u001b[0m\u001b[37m\u001b[0m \u001b[1m0s\u001b[0m 314ms/step - categorical_accuracy: 0.8571 - loss: 0.4068 - val_categorical_accuracy: 1.0000 - val_loss: 0.0137 - learning_rate: 1.0000e-04\n",
      "Epoch 119/340\n",
      "\u001b[1m1/1\u001b[0m \u001b[32m━━━━━━━━━━━━━━━━━━━━\u001b[0m\u001b[37m\u001b[0m \u001b[1m0s\u001b[0m 315ms/step - categorical_accuracy: 0.8571 - loss: 0.4045 - val_categorical_accuracy: 1.0000 - val_loss: 0.0136 - learning_rate: 1.0000e-04\n",
      "Epoch 120/340\n",
      "\u001b[1m1/1\u001b[0m \u001b[32m━━━━━━━━━━━━━━━━━━━━\u001b[0m\u001b[37m\u001b[0m \u001b[1m1s\u001b[0m 611ms/step - categorical_accuracy: 0.8571 - loss: 0.4021 - val_categorical_accuracy: 1.0000 - val_loss: 0.0135 - learning_rate: 1.0000e-04\n",
      "Epoch 121/340\n",
      "\u001b[1m1/1\u001b[0m \u001b[32m━━━━━━━━━━━━━━━━━━━━\u001b[0m\u001b[37m\u001b[0m \u001b[1m1s\u001b[0m 605ms/step - categorical_accuracy: 0.8571 - loss: 0.3998 - val_categorical_accuracy: 1.0000 - val_loss: 0.0135 - learning_rate: 1.0000e-04\n",
      "Epoch 122/340\n",
      "\u001b[1m1/1\u001b[0m \u001b[32m━━━━━━━━━━━━━━━━━━━━\u001b[0m\u001b[37m\u001b[0m \u001b[1m0s\u001b[0m 324ms/step - categorical_accuracy: 0.8571 - loss: 0.3975 - val_categorical_accuracy: 1.0000 - val_loss: 0.0134 - learning_rate: 1.0000e-04\n",
      "Epoch 123/340\n",
      "\u001b[1m1/1\u001b[0m \u001b[32m━━━━━━━━━━━━━━━━━━━━\u001b[0m\u001b[37m\u001b[0m \u001b[1m0s\u001b[0m 316ms/step - categorical_accuracy: 0.8571 - loss: 0.3952 - val_categorical_accuracy: 1.0000 - val_loss: 0.0133 - learning_rate: 1.0000e-04\n",
      "Epoch 124/340\n",
      "\u001b[1m1/1\u001b[0m \u001b[32m━━━━━━━━━━━━━━━━━━━━\u001b[0m\u001b[37m\u001b[0m \u001b[1m0s\u001b[0m 303ms/step - categorical_accuracy: 0.8571 - loss: 0.3929 - val_categorical_accuracy: 1.0000 - val_loss: 0.0132 - learning_rate: 1.0000e-04\n",
      "Epoch 125/340\n",
      "\u001b[1m1/1\u001b[0m \u001b[32m━━━━━━━━━━━━━━━━━━━━\u001b[0m\u001b[37m\u001b[0m \u001b[1m0s\u001b[0m 321ms/step - categorical_accuracy: 0.8571 - loss: 0.3907 - val_categorical_accuracy: 1.0000 - val_loss: 0.0131 - learning_rate: 1.0000e-04\n",
      "Epoch 126/340\n",
      "\u001b[1m1/1\u001b[0m \u001b[32m━━━━━━━━━━━━━━━━━━━━\u001b[0m\u001b[37m\u001b[0m \u001b[1m1s\u001b[0m 612ms/step - categorical_accuracy: 0.8571 - loss: 0.3884 - val_categorical_accuracy: 1.0000 - val_loss: 0.0131 - learning_rate: 1.0000e-04\n",
      "Epoch 127/340\n",
      "\u001b[1m1/1\u001b[0m \u001b[32m━━━━━━━━━━━━━━━━━━━━\u001b[0m\u001b[37m\u001b[0m \u001b[1m1s\u001b[0m 847ms/step - categorical_accuracy: 0.8571 - loss: 0.3862 - val_categorical_accuracy: 1.0000 - val_loss: 0.0130 - learning_rate: 1.0000e-04\n",
      "Epoch 128/340\n",
      "\u001b[1m1/1\u001b[0m \u001b[32m━━━━━━━━━━━━━━━━━━━━\u001b[0m\u001b[37m\u001b[0m \u001b[1m0s\u001b[0m 465ms/step - categorical_accuracy: 0.8571 - loss: 0.3840 - val_categorical_accuracy: 1.0000 - val_loss: 0.0129 - learning_rate: 1.0000e-04\n",
      "Epoch 129/340\n",
      "\u001b[1m1/1\u001b[0m \u001b[32m━━━━━━━━━━━━━━━━━━━━\u001b[0m\u001b[37m\u001b[0m \u001b[1m1s\u001b[0m 675ms/step - categorical_accuracy: 0.8571 - loss: 0.3817 - val_categorical_accuracy: 1.0000 - val_loss: 0.0128 - learning_rate: 1.0000e-04\n",
      "Epoch 130/340\n",
      "\u001b[1m1/1\u001b[0m \u001b[32m━━━━━━━━━━━━━━━━━━━━\u001b[0m\u001b[37m\u001b[0m \u001b[1m1s\u001b[0m 597ms/step - categorical_accuracy: 0.8571 - loss: 0.3795 - val_categorical_accuracy: 1.0000 - val_loss: 0.0127 - learning_rate: 1.0000e-04\n",
      "Epoch 131/340\n",
      "\u001b[1m1/1\u001b[0m \u001b[32m━━━━━━━━━━━━━━━━━━━━\u001b[0m\u001b[37m\u001b[0m \u001b[1m1s\u001b[0m 688ms/step - categorical_accuracy: 0.8571 - loss: 0.3772 - val_categorical_accuracy: 1.0000 - val_loss: 0.0126 - learning_rate: 1.0000e-04\n",
      "Epoch 132/340\n",
      "\u001b[1m1/1\u001b[0m \u001b[32m━━━━━━━━━━━━━━━━━━━━\u001b[0m\u001b[37m\u001b[0m \u001b[1m0s\u001b[0m 377ms/step - categorical_accuracy: 0.8571 - loss: 0.3749 - val_categorical_accuracy: 1.0000 - val_loss: 0.0126 - learning_rate: 1.0000e-04\n",
      "Epoch 133/340\n",
      "\u001b[1m1/1\u001b[0m \u001b[32m━━━━━━━━━━━━━━━━━━━━\u001b[0m\u001b[37m\u001b[0m \u001b[1m0s\u001b[0m 314ms/step - categorical_accuracy: 0.8571 - loss: 0.3725 - val_categorical_accuracy: 1.0000 - val_loss: 0.0125 - learning_rate: 1.0000e-04\n",
      "Epoch 134/340\n",
      "\u001b[1m1/1\u001b[0m \u001b[32m━━━━━━━━━━━━━━━━━━━━\u001b[0m\u001b[37m\u001b[0m \u001b[1m0s\u001b[0m 317ms/step - categorical_accuracy: 0.8571 - loss: 0.3700 - val_categorical_accuracy: 1.0000 - val_loss: 0.0124 - learning_rate: 1.0000e-04\n",
      "Epoch 135/340\n",
      "\u001b[1m1/1\u001b[0m \u001b[32m━━━━━━━━━━━━━━━━━━━━\u001b[0m\u001b[37m\u001b[0m \u001b[1m1s\u001b[0m 598ms/step - categorical_accuracy: 0.8571 - loss: 0.3674 - val_categorical_accuracy: 1.0000 - val_loss: 0.0124 - learning_rate: 1.0000e-04\n",
      "Epoch 136/340\n",
      "\u001b[1m1/1\u001b[0m \u001b[32m━━━━━━━━━━━━━━━━━━━━\u001b[0m\u001b[37m\u001b[0m \u001b[1m0s\u001b[0m 331ms/step - categorical_accuracy: 0.8571 - loss: 0.3647 - val_categorical_accuracy: 1.0000 - val_loss: 0.0123 - learning_rate: 1.0000e-04\n",
      "Epoch 137/340\n",
      "\u001b[1m1/1\u001b[0m \u001b[32m━━━━━━━━━━━━━━━━━━━━\u001b[0m\u001b[37m\u001b[0m \u001b[1m0s\u001b[0m 295ms/step - categorical_accuracy: 0.8571 - loss: 0.3617 - val_categorical_accuracy: 1.0000 - val_loss: 0.0122 - learning_rate: 1.0000e-04\n",
      "Epoch 138/340\n",
      "\u001b[1m1/1\u001b[0m \u001b[32m━━━━━━━━━━━━━━━━━━━━\u001b[0m\u001b[37m\u001b[0m \u001b[1m0s\u001b[0m 293ms/step - categorical_accuracy: 0.8571 - loss: 0.3586 - val_categorical_accuracy: 1.0000 - val_loss: 0.0121 - learning_rate: 1.0000e-04\n",
      "Epoch 139/340\n",
      "\u001b[1m1/1\u001b[0m \u001b[32m━━━━━━━━━━━━━━━━━━━━\u001b[0m\u001b[37m\u001b[0m \u001b[1m0s\u001b[0m 307ms/step - categorical_accuracy: 0.8571 - loss: 0.3553 - val_categorical_accuracy: 1.0000 - val_loss: 0.0120 - learning_rate: 1.0000e-04\n",
      "Epoch 140/340\n",
      "\u001b[1m1/1\u001b[0m \u001b[32m━━━━━━━━━━━━━━━━━━━━\u001b[0m\u001b[37m\u001b[0m \u001b[1m0s\u001b[0m 317ms/step - categorical_accuracy: 0.8571 - loss: 0.3518 - val_categorical_accuracy: 1.0000 - val_loss: 0.0119 - learning_rate: 1.0000e-04\n",
      "Epoch 141/340\n",
      "\u001b[1m1/1\u001b[0m \u001b[32m━━━━━━━━━━━━━━━━━━━━\u001b[0m\u001b[37m\u001b[0m \u001b[1m1s\u001b[0m 593ms/step - categorical_accuracy: 0.8571 - loss: 0.3481 - val_categorical_accuracy: 1.0000 - val_loss: 0.0118 - learning_rate: 1.0000e-04\n",
      "Epoch 142/340\n",
      "\u001b[1m1/1\u001b[0m \u001b[32m━━━━━━━━━━━━━━━━━━━━\u001b[0m\u001b[37m\u001b[0m \u001b[1m1s\u001b[0m 632ms/step - categorical_accuracy: 0.8571 - loss: 0.3443 - val_categorical_accuracy: 1.0000 - val_loss: 0.0116 - learning_rate: 1.0000e-04\n",
      "Epoch 143/340\n",
      "\u001b[1m1/1\u001b[0m \u001b[32m━━━━━━━━━━━━━━━━━━━━\u001b[0m\u001b[37m\u001b[0m \u001b[1m0s\u001b[0m 293ms/step - categorical_accuracy: 0.8571 - loss: 0.3404 - val_categorical_accuracy: 1.0000 - val_loss: 0.0115 - learning_rate: 1.0000e-04\n",
      "Epoch 144/340\n",
      "\u001b[1m1/1\u001b[0m \u001b[32m━━━━━━━━━━━━━━━━━━━━\u001b[0m\u001b[37m\u001b[0m \u001b[1m0s\u001b[0m 341ms/step - categorical_accuracy: 0.8571 - loss: 0.3365 - val_categorical_accuracy: 1.0000 - val_loss: 0.0113 - learning_rate: 1.0000e-04\n",
      "Epoch 145/340\n",
      "\u001b[1m1/1\u001b[0m \u001b[32m━━━━━━━━━━━━━━━━━━━━\u001b[0m\u001b[37m\u001b[0m \u001b[1m1s\u001b[0m 594ms/step - categorical_accuracy: 0.8571 - loss: 0.3326 - val_categorical_accuracy: 1.0000 - val_loss: 0.0111 - learning_rate: 1.0000e-04\n",
      "Epoch 146/340\n",
      "\u001b[1m1/1\u001b[0m \u001b[32m━━━━━━━━━━━━━━━━━━━━\u001b[0m\u001b[37m\u001b[0m \u001b[1m1s\u001b[0m 941ms/step - categorical_accuracy: 0.8571 - loss: 0.3287 - val_categorical_accuracy: 1.0000 - val_loss: 0.0110 - learning_rate: 1.0000e-04\n",
      "Epoch 147/340\n",
      "\u001b[1m1/1\u001b[0m \u001b[32m━━━━━━━━━━━━━━━━━━━━\u001b[0m\u001b[37m\u001b[0m \u001b[1m1s\u001b[0m 677ms/step - categorical_accuracy: 0.8571 - loss: 0.3267 - val_categorical_accuracy: 1.0000 - val_loss: 0.0108 - learning_rate: 1.0000e-04\n",
      "Epoch 148/340\n",
      "\u001b[1m1/1\u001b[0m \u001b[32m━━━━━━━━━━━━━━━━━━━━\u001b[0m\u001b[37m\u001b[0m \u001b[1m0s\u001b[0m 315ms/step - categorical_accuracy: 0.8571 - loss: 0.3410 - val_categorical_accuracy: 1.0000 - val_loss: 0.0110 - learning_rate: 1.0000e-04\n",
      "Epoch 149/340\n",
      "\u001b[1m1/1\u001b[0m \u001b[32m━━━━━━━━━━━━━━━━━━━━\u001b[0m\u001b[37m\u001b[0m \u001b[1m0s\u001b[0m 311ms/step - categorical_accuracy: 0.8571 - loss: 0.3328 - val_categorical_accuracy: 1.0000 - val_loss: 0.0108 - learning_rate: 1.0000e-04\n",
      "Epoch 150/340\n",
      "\u001b[1m1/1\u001b[0m \u001b[32m━━━━━━━━━━━━━━━━━━━━\u001b[0m\u001b[37m\u001b[0m \u001b[1m0s\u001b[0m 365ms/step - categorical_accuracy: 0.8571 - loss: 0.3188 - val_categorical_accuracy: 1.0000 - val_loss: 0.0107 - learning_rate: 1.0000e-04\n",
      "Epoch 151/340\n",
      "\u001b[1m1/1\u001b[0m \u001b[32m━━━━━━━━━━━━━━━━━━━━\u001b[0m\u001b[37m\u001b[0m \u001b[1m1s\u001b[0m 604ms/step - categorical_accuracy: 0.8571 - loss: 0.3143 - val_categorical_accuracy: 1.0000 - val_loss: 0.0106 - learning_rate: 1.0000e-04\n",
      "Epoch 152/340\n",
      "\u001b[1m1/1\u001b[0m \u001b[32m━━━━━━━━━━━━━━━━━━━━\u001b[0m\u001b[37m\u001b[0m \u001b[1m0s\u001b[0m 372ms/step - categorical_accuracy: 0.8571 - loss: 0.3108 - val_categorical_accuracy: 1.0000 - val_loss: 0.0106 - learning_rate: 1.0000e-04\n",
      "Epoch 153/340\n",
      "\u001b[1m1/1\u001b[0m \u001b[32m━━━━━━━━━━━━━━━━━━━━\u001b[0m\u001b[37m\u001b[0m \u001b[1m1s\u001b[0m 581ms/step - categorical_accuracy: 0.8571 - loss: 0.3073 - val_categorical_accuracy: 1.0000 - val_loss: 0.0105 - learning_rate: 1.0000e-04\n",
      "Epoch 154/340\n",
      "\u001b[1m1/1\u001b[0m \u001b[32m━━━━━━━━━━━━━━━━━━━━\u001b[0m\u001b[37m\u001b[0m \u001b[1m0s\u001b[0m 383ms/step - categorical_accuracy: 0.8571 - loss: 0.3035 - val_categorical_accuracy: 1.0000 - val_loss: 0.0105 - learning_rate: 1.0000e-04\n",
      "Epoch 155/340\n",
      "\u001b[1m1/1\u001b[0m \u001b[32m━━━━━━━━━━━━━━━━━━━━\u001b[0m\u001b[37m\u001b[0m \u001b[1m1s\u001b[0m 851ms/step - categorical_accuracy: 0.8571 - loss: 0.2996 - val_categorical_accuracy: 1.0000 - val_loss: 0.0104 - learning_rate: 1.0000e-04\n",
      "Epoch 156/340\n",
      "\u001b[1m1/1\u001b[0m \u001b[32m━━━━━━━━━━━━━━━━━━━━\u001b[0m\u001b[37m\u001b[0m \u001b[1m0s\u001b[0m 480ms/step - categorical_accuracy: 0.8571 - loss: 0.2964 - val_categorical_accuracy: 1.0000 - val_loss: 0.0105 - learning_rate: 1.0000e-04\n",
      "Epoch 157/340\n",
      "\u001b[1m1/1\u001b[0m \u001b[32m━━━━━━━━━━━━━━━━━━━━\u001b[0m\u001b[37m\u001b[0m \u001b[1m0s\u001b[0m 492ms/step - categorical_accuracy: 0.8571 - loss: 0.2965 - val_categorical_accuracy: 1.0000 - val_loss: 0.0105 - learning_rate: 1.0000e-04\n",
      "Epoch 158/340\n",
      "\u001b[1m1/1\u001b[0m \u001b[32m━━━━━━━━━━━━━━━━━━━━\u001b[0m\u001b[37m\u001b[0m \u001b[1m1s\u001b[0m 613ms/step - categorical_accuracy: 0.8571 - loss: 0.3081 - val_categorical_accuracy: 1.0000 - val_loss: 0.0106 - learning_rate: 1.0000e-04\n",
      "Epoch 159/340\n",
      "\u001b[1m1/1\u001b[0m \u001b[32m━━━━━━━━━━━━━━━━━━━━\u001b[0m\u001b[37m\u001b[0m \u001b[1m1s\u001b[0m 572ms/step - categorical_accuracy: 0.8571 - loss: 0.2843 - val_categorical_accuracy: 1.0000 - val_loss: 0.0105 - learning_rate: 1.0000e-04\n",
      "Epoch 160/340\n",
      "\u001b[1m1/1\u001b[0m \u001b[32m━━━━━━━━━━━━━━━━━━━━\u001b[0m\u001b[37m\u001b[0m \u001b[1m1s\u001b[0m 592ms/step - categorical_accuracy: 0.8571 - loss: 0.2792 - val_categorical_accuracy: 1.0000 - val_loss: 0.0105 - learning_rate: 1.0000e-04\n",
      "Epoch 161/340\n",
      "\u001b[1m1/1\u001b[0m \u001b[32m━━━━━━━━━━━━━━━━━━━━\u001b[0m\u001b[37m\u001b[0m \u001b[1m0s\u001b[0m 341ms/step - categorical_accuracy: 0.8571 - loss: 0.2784 - val_categorical_accuracy: 1.0000 - val_loss: 0.0106 - learning_rate: 1.0000e-04\n",
      "Epoch 162/340\n",
      "\u001b[1m1/1\u001b[0m \u001b[32m━━━━━━━━━━━━━━━━━━━━\u001b[0m\u001b[37m\u001b[0m \u001b[1m0s\u001b[0m 319ms/step - categorical_accuracy: 0.8571 - loss: 0.2746 - val_categorical_accuracy: 1.0000 - val_loss: 0.0105 - learning_rate: 1.0000e-04\n",
      "Epoch 163/340\n",
      "\u001b[1m1/1\u001b[0m \u001b[32m━━━━━━━━━━━━━━━━━━━━\u001b[0m\u001b[37m\u001b[0m \u001b[1m1s\u001b[0m 621ms/step - categorical_accuracy: 0.8571 - loss: 0.2959 - val_categorical_accuracy: 1.0000 - val_loss: 0.0105 - learning_rate: 1.0000e-04\n",
      "Epoch 164/340\n",
      "\u001b[1m1/1\u001b[0m \u001b[32m━━━━━━━━━━━━━━━━━━━━\u001b[0m\u001b[37m\u001b[0m \u001b[1m0s\u001b[0m 383ms/step - categorical_accuracy: 0.8571 - loss: 0.2709 - val_categorical_accuracy: 1.0000 - val_loss: 0.0104 - learning_rate: 1.0000e-04\n",
      "Epoch 165/340\n",
      "\u001b[1m1/1\u001b[0m \u001b[32m━━━━━━━━━━━━━━━━━━━━\u001b[0m\u001b[37m\u001b[0m \u001b[1m1s\u001b[0m 530ms/step - categorical_accuracy: 0.8571 - loss: 0.2472 - val_categorical_accuracy: 1.0000 - val_loss: 0.0105 - learning_rate: 1.0000e-04\n",
      "Epoch 166/340\n",
      "\u001b[1m1/1\u001b[0m \u001b[32m━━━━━━━━━━━━━━━━━━━━\u001b[0m\u001b[37m\u001b[0m \u001b[1m0s\u001b[0m 405ms/step - categorical_accuracy: 0.8571 - loss: 0.2509 - val_categorical_accuracy: 1.0000 - val_loss: 0.0106 - learning_rate: 1.0000e-04\n",
      "Epoch 167/340\n",
      "\u001b[1m1/1\u001b[0m \u001b[32m━━━━━━━━━━━━━━━━━━━━\u001b[0m\u001b[37m\u001b[0m \u001b[1m1s\u001b[0m 831ms/step - categorical_accuracy: 0.8571 - loss: 0.2816 - val_categorical_accuracy: 1.0000 - val_loss: 0.0101 - learning_rate: 1.0000e-04\n",
      "Epoch 168/340\n",
      "\u001b[1m1/1\u001b[0m \u001b[32m━━━━━━━━━━━━━━━━━━━━\u001b[0m\u001b[37m\u001b[0m \u001b[1m1s\u001b[0m 1s/step - categorical_accuracy: 0.8571 - loss: 0.2613 - val_categorical_accuracy: 1.0000 - val_loss: 0.0101 - learning_rate: 1.0000e-04\n",
      "Epoch 169/340\n",
      "\u001b[1m1/1\u001b[0m \u001b[32m━━━━━━━━━━━━━━━━━━━━\u001b[0m\u001b[37m\u001b[0m \u001b[1m1s\u001b[0m 1s/step - categorical_accuracy: 0.8571 - loss: 0.2386 - val_categorical_accuracy: 1.0000 - val_loss: 0.0101 - learning_rate: 1.0000e-04\n",
      "Epoch 170/340\n",
      "\u001b[1m1/1\u001b[0m \u001b[32m━━━━━━━━━━━━━━━━━━━━\u001b[0m\u001b[37m\u001b[0m \u001b[1m0s\u001b[0m 315ms/step - categorical_accuracy: 0.8571 - loss: 0.2005 - val_categorical_accuracy: 1.0000 - val_loss: 0.0104 - learning_rate: 1.0000e-04\n",
      "Epoch 171/340\n",
      "\u001b[1m1/1\u001b[0m \u001b[32m━━━━━━━━━━━━━━━━━━━━\u001b[0m\u001b[37m\u001b[0m \u001b[1m1s\u001b[0m 616ms/step - categorical_accuracy: 0.8571 - loss: 0.1968 - val_categorical_accuracy: 1.0000 - val_loss: 0.0105 - learning_rate: 1.0000e-04\n",
      "Epoch 172/340\n",
      "\u001b[1m1/1\u001b[0m \u001b[32m━━━━━━━━━━━━━━━━━━━━\u001b[0m\u001b[37m\u001b[0m \u001b[1m0s\u001b[0m 357ms/step - categorical_accuracy: 1.0000 - loss: 0.2320 - val_categorical_accuracy: 1.0000 - val_loss: 0.0098 - learning_rate: 1.0000e-04\n",
      "Epoch 173/340\n",
      "\u001b[1m1/1\u001b[0m \u001b[32m━━━━━━━━━━━━━━━━━━━━\u001b[0m\u001b[37m\u001b[0m \u001b[1m0s\u001b[0m 303ms/step - categorical_accuracy: 1.0000 - loss: 0.1686 - val_categorical_accuracy: 1.0000 - val_loss: 0.0102 - learning_rate: 1.0000e-04\n",
      "Epoch 174/340\n",
      "\u001b[1m1/1\u001b[0m \u001b[32m━━━━━━━━━━━━━━━━━━━━\u001b[0m\u001b[37m\u001b[0m \u001b[1m0s\u001b[0m 300ms/step - categorical_accuracy: 0.8571 - loss: 0.1619 - val_categorical_accuracy: 1.0000 - val_loss: 0.0102 - learning_rate: 1.0000e-04\n",
      "Epoch 175/340\n",
      "\u001b[1m1/1\u001b[0m \u001b[32m━━━━━━━━━━━━━━━━━━━━\u001b[0m\u001b[37m\u001b[0m \u001b[1m1s\u001b[0m 625ms/step - categorical_accuracy: 1.0000 - loss: 0.1585 - val_categorical_accuracy: 1.0000 - val_loss: 0.0098 - learning_rate: 1.0000e-04\n",
      "Epoch 176/340\n",
      "\u001b[1m1/1\u001b[0m \u001b[32m━━━━━━━━━━━━━━━━━━━━\u001b[0m\u001b[37m\u001b[0m \u001b[1m0s\u001b[0m 340ms/step - categorical_accuracy: 0.8571 - loss: 0.2095 - val_categorical_accuracy: 1.0000 - val_loss: 0.0097 - learning_rate: 1.0000e-04\n",
      "Epoch 177/340\n",
      "\u001b[1m1/1\u001b[0m \u001b[32m━━━━━━━━━━━━━━━━━━━━\u001b[0m\u001b[37m\u001b[0m \u001b[1m0s\u001b[0m 375ms/step - categorical_accuracy: 0.8571 - loss: 0.2413 - val_categorical_accuracy: 1.0000 - val_loss: 0.0096 - learning_rate: 1.0000e-04\n",
      "Epoch 178/340\n",
      "\u001b[1m1/1\u001b[0m \u001b[32m━━━━━━━━━━━━━━━━━━━━\u001b[0m\u001b[37m\u001b[0m \u001b[1m0s\u001b[0m 393ms/step - categorical_accuracy: 1.0000 - loss: 0.1624 - val_categorical_accuracy: 1.0000 - val_loss: 0.0095 - learning_rate: 1.0000e-04\n",
      "Epoch 179/340\n",
      "\u001b[1m1/1\u001b[0m \u001b[32m━━━━━━━━━━━━━━━━━━━━\u001b[0m\u001b[37m\u001b[0m \u001b[1m0s\u001b[0m 319ms/step - categorical_accuracy: 1.0000 - loss: 0.1294 - val_categorical_accuracy: 1.0000 - val_loss: 0.0097 - learning_rate: 1.0000e-04\n",
      "Epoch 180/340\n",
      "\u001b[1m1/1\u001b[0m \u001b[32m━━━━━━━━━━━━━━━━━━━━\u001b[0m\u001b[37m\u001b[0m \u001b[1m1s\u001b[0m 810ms/step - categorical_accuracy: 1.0000 - loss: 0.1223 - val_categorical_accuracy: 1.0000 - val_loss: 0.0097 - learning_rate: 1.0000e-04\n",
      "Epoch 181/340\n",
      "\u001b[1m1/1\u001b[0m \u001b[32m━━━━━━━━━━━━━━━━━━━━\u001b[0m\u001b[37m\u001b[0m \u001b[1m1s\u001b[0m 590ms/step - categorical_accuracy: 1.0000 - loss: 0.1168 - val_categorical_accuracy: 1.0000 - val_loss: 0.0098 - learning_rate: 1.0000e-04\n",
      "Epoch 182/340\n",
      "\u001b[1m1/1\u001b[0m \u001b[32m━━━━━━━━━━━━━━━━━━━━\u001b[0m\u001b[37m\u001b[0m \u001b[1m1s\u001b[0m 549ms/step - categorical_accuracy: 1.0000 - loss: 0.1123 - val_categorical_accuracy: 1.0000 - val_loss: 0.0098 - learning_rate: 1.0000e-04\n",
      "Epoch 183/340\n",
      "\u001b[1m1/1\u001b[0m \u001b[32m━━━━━━━━━━━━━━━━━━━━\u001b[0m\u001b[37m\u001b[0m \u001b[1m1s\u001b[0m 688ms/step - categorical_accuracy: 1.0000 - loss: 0.1083 - val_categorical_accuracy: 1.0000 - val_loss: 0.0098 - learning_rate: 1.0000e-04\n",
      "Epoch 184/340\n",
      "\u001b[1m1/1\u001b[0m \u001b[32m━━━━━━━━━━━━━━━━━━━━\u001b[0m\u001b[37m\u001b[0m \u001b[1m1s\u001b[0m 589ms/step - categorical_accuracy: 1.0000 - loss: 0.1046 - val_categorical_accuracy: 1.0000 - val_loss: 0.0097 - learning_rate: 1.0000e-04\n",
      "Epoch 185/340\n",
      "\u001b[1m1/1\u001b[0m \u001b[32m━━━━━━━━━━━━━━━━━━━━\u001b[0m\u001b[37m\u001b[0m \u001b[1m1s\u001b[0m 539ms/step - categorical_accuracy: 1.0000 - loss: 0.1010 - val_categorical_accuracy: 1.0000 - val_loss: 0.0097 - learning_rate: 1.0000e-04\n",
      "Epoch 186/340\n",
      "\u001b[1m1/1\u001b[0m \u001b[32m━━━━━━━━━━━━━━━━━━━━\u001b[0m\u001b[37m\u001b[0m \u001b[1m0s\u001b[0m 294ms/step - categorical_accuracy: 1.0000 - loss: 0.0975 - val_categorical_accuracy: 1.0000 - val_loss: 0.0096 - learning_rate: 1.0000e-04\n",
      "Epoch 187/340\n",
      "\u001b[1m1/1\u001b[0m \u001b[32m━━━━━━━━━━━━━━━━━━━━\u001b[0m\u001b[37m\u001b[0m \u001b[1m0s\u001b[0m 341ms/step - categorical_accuracy: 1.0000 - loss: 0.0942 - val_categorical_accuracy: 1.0000 - val_loss: 0.0096 - learning_rate: 1.0000e-04\n",
      "Epoch 188/340\n",
      "\u001b[1m1/1\u001b[0m \u001b[32m━━━━━━━━━━━━━━━━━━━━\u001b[0m\u001b[37m\u001b[0m \u001b[1m1s\u001b[0m 625ms/step - categorical_accuracy: 1.0000 - loss: 0.0910 - val_categorical_accuracy: 1.0000 - val_loss: 0.0095 - learning_rate: 1.0000e-04\n",
      "Epoch 189/340\n",
      "\u001b[1m1/1\u001b[0m \u001b[32m━━━━━━━━━━━━━━━━━━━━\u001b[0m\u001b[37m\u001b[0m \u001b[1m0s\u001b[0m 406ms/step - categorical_accuracy: 1.0000 - loss: 0.0879 - val_categorical_accuracy: 1.0000 - val_loss: 0.0095 - learning_rate: 1.0000e-04\n",
      "Epoch 190/340\n",
      "\u001b[1m1/1\u001b[0m \u001b[32m━━━━━━━━━━━━━━━━━━━━\u001b[0m\u001b[37m\u001b[0m \u001b[1m1s\u001b[0m 570ms/step - categorical_accuracy: 1.0000 - loss: 0.0849 - val_categorical_accuracy: 1.0000 - val_loss: 0.0094 - learning_rate: 1.0000e-04\n",
      "Epoch 191/340\n",
      "\u001b[1m1/1\u001b[0m \u001b[32m━━━━━━━━━━━━━━━━━━━━\u001b[0m\u001b[37m\u001b[0m \u001b[1m1s\u001b[0m 627ms/step - categorical_accuracy: 1.0000 - loss: 0.0821 - val_categorical_accuracy: 1.0000 - val_loss: 0.0094 - learning_rate: 1.0000e-04\n",
      "Epoch 192/340\n",
      "\u001b[1m1/1\u001b[0m \u001b[32m━━━━━━━━━━━━━━━━━━━━\u001b[0m\u001b[37m\u001b[0m \u001b[1m0s\u001b[0m 361ms/step - categorical_accuracy: 1.0000 - loss: 0.0794 - val_categorical_accuracy: 1.0000 - val_loss: 0.0092 - learning_rate: 1.0000e-04\n",
      "Epoch 193/340\n",
      "\u001b[1m1/1\u001b[0m \u001b[32m━━━━━━━━━━━━━━━━━━━━\u001b[0m\u001b[37m\u001b[0m \u001b[1m0s\u001b[0m 321ms/step - categorical_accuracy: 1.0000 - loss: 0.0769 - val_categorical_accuracy: 1.0000 - val_loss: 0.0093 - learning_rate: 1.0000e-04\n",
      "Epoch 194/340\n",
      "\u001b[1m1/1\u001b[0m \u001b[32m━━━━━━━━━━━━━━━━━━━━\u001b[0m\u001b[37m\u001b[0m \u001b[1m0s\u001b[0m 380ms/step - categorical_accuracy: 1.0000 - loss: 0.0748 - val_categorical_accuracy: 1.0000 - val_loss: 0.0091 - learning_rate: 1.0000e-04\n",
      "Epoch 195/340\n",
      "\u001b[1m1/1\u001b[0m \u001b[32m━━━━━━━━━━━━━━━━━━━━\u001b[0m\u001b[37m\u001b[0m \u001b[1m0s\u001b[0m 306ms/step - categorical_accuracy: 1.0000 - loss: 0.0732 - val_categorical_accuracy: 1.0000 - val_loss: 0.0093 - learning_rate: 1.0000e-04\n",
      "Epoch 196/340\n",
      "\u001b[1m1/1\u001b[0m \u001b[32m━━━━━━━━━━━━━━━━━━━━\u001b[0m\u001b[37m\u001b[0m \u001b[1m0s\u001b[0m 348ms/step - categorical_accuracy: 1.0000 - loss: 0.0733 - val_categorical_accuracy: 1.0000 - val_loss: 0.0088 - learning_rate: 1.0000e-04\n",
      "Epoch 197/340\n",
      "\u001b[1m1/1\u001b[0m \u001b[32m━━━━━━━━━━━━━━━━━━━━\u001b[0m\u001b[37m\u001b[0m \u001b[1m0s\u001b[0m 350ms/step - categorical_accuracy: 1.0000 - loss: 0.0719 - val_categorical_accuracy: 1.0000 - val_loss: 0.0094 - learning_rate: 1.0000e-04\n",
      "Epoch 198/340\n",
      "\u001b[1m1/1\u001b[0m \u001b[32m━━━━━━━━━━━━━━━━━━━━\u001b[0m\u001b[37m\u001b[0m \u001b[1m1s\u001b[0m 585ms/step - categorical_accuracy: 1.0000 - loss: 0.0727 - val_categorical_accuracy: 1.0000 - val_loss: 0.0089 - learning_rate: 1.0000e-04\n",
      "Epoch 199/340\n",
      "\u001b[1m1/1\u001b[0m \u001b[32m━━━━━━━━━━━━━━━━━━━━\u001b[0m\u001b[37m\u001b[0m \u001b[1m1s\u001b[0m 620ms/step - categorical_accuracy: 1.0000 - loss: 0.0665 - val_categorical_accuracy: 1.0000 - val_loss: 0.0092 - learning_rate: 1.0000e-04\n",
      "Epoch 200/340\n",
      "\u001b[1m1/1\u001b[0m \u001b[32m━━━━━━━━━━━━━━━━━━━━\u001b[0m\u001b[37m\u001b[0m \u001b[1m1s\u001b[0m 621ms/step - categorical_accuracy: 1.0000 - loss: 0.0634 - val_categorical_accuracy: 1.0000 - val_loss: 0.0090 - learning_rate: 1.0000e-04\n",
      "Epoch 201/340\n",
      "\u001b[1m1/1\u001b[0m \u001b[32m━━━━━━━━━━━━━━━━━━━━\u001b[0m\u001b[37m\u001b[0m \u001b[1m0s\u001b[0m 318ms/step - categorical_accuracy: 1.0000 - loss: 0.0605 - val_categorical_accuracy: 1.0000 - val_loss: 0.0090 - learning_rate: 1.0000e-04\n",
      "Epoch 202/340\n",
      "\u001b[1m1/1\u001b[0m \u001b[32m━━━━━━━━━━━━━━━━━━━━\u001b[0m\u001b[37m\u001b[0m \u001b[1m0s\u001b[0m 356ms/step - categorical_accuracy: 1.0000 - loss: 0.0587 - val_categorical_accuracy: 1.0000 - val_loss: 0.0088 - learning_rate: 1.0000e-04\n",
      "Epoch 203/340\n",
      "\u001b[1m1/1\u001b[0m \u001b[32m━━━━━━━━━━━━━━━━━━━━\u001b[0m\u001b[37m\u001b[0m \u001b[1m0s\u001b[0m 345ms/step - categorical_accuracy: 1.0000 - loss: 0.0570 - val_categorical_accuracy: 1.0000 - val_loss: 0.0088 - learning_rate: 1.0000e-05\n",
      "Epoch 204/340\n",
      "\u001b[1m1/1\u001b[0m \u001b[32m━━━━━━━━━━━━━━━━━━━━\u001b[0m\u001b[37m\u001b[0m \u001b[1m0s\u001b[0m 350ms/step - categorical_accuracy: 1.0000 - loss: 0.0569 - val_categorical_accuracy: 1.0000 - val_loss: 0.0088 - learning_rate: 1.0000e-05\n",
      "Epoch 205/340\n",
      "\u001b[1m1/1\u001b[0m \u001b[32m━━━━━━━━━━━━━━━━━━━━\u001b[0m\u001b[37m\u001b[0m \u001b[1m0s\u001b[0m 342ms/step - categorical_accuracy: 1.0000 - loss: 0.0567 - val_categorical_accuracy: 1.0000 - val_loss: 0.0088 - learning_rate: 1.0000e-05\n",
      "Epoch 206/340\n",
      "\u001b[1m1/1\u001b[0m \u001b[32m━━━━━━━━━━━━━━━━━━━━\u001b[0m\u001b[37m\u001b[0m \u001b[1m0s\u001b[0m 349ms/step - categorical_accuracy: 1.0000 - loss: 0.0565 - val_categorical_accuracy: 1.0000 - val_loss: 0.0088 - learning_rate: 1.0000e-05\n",
      "Epoch 207/340\n",
      "\u001b[1m1/1\u001b[0m \u001b[32m━━━━━━━━━━━━━━━━━━━━\u001b[0m\u001b[37m\u001b[0m \u001b[1m0s\u001b[0m 387ms/step - categorical_accuracy: 1.0000 - loss: 0.0563 - val_categorical_accuracy: 1.0000 - val_loss: 0.0088 - learning_rate: 1.0000e-05\n",
      "Epoch 208/340\n",
      "\u001b[1m1/1\u001b[0m \u001b[32m━━━━━━━━━━━━━━━━━━━━\u001b[0m\u001b[37m\u001b[0m \u001b[1m0s\u001b[0m 371ms/step - categorical_accuracy: 1.0000 - loss: 0.0562 - val_categorical_accuracy: 1.0000 - val_loss: 0.0088 - learning_rate: 1.0000e-05\n",
      "Epoch 209/340\n",
      "\u001b[1m1/1\u001b[0m \u001b[32m━━━━━━━━━━━━━━━━━━━━\u001b[0m\u001b[37m\u001b[0m \u001b[1m0s\u001b[0m 450ms/step - categorical_accuracy: 1.0000 - loss: 0.0560 - val_categorical_accuracy: 1.0000 - val_loss: 0.0088 - learning_rate: 1.0000e-05\n",
      "Epoch 210/340\n",
      "\u001b[1m1/1\u001b[0m \u001b[32m━━━━━━━━━━━━━━━━━━━━\u001b[0m\u001b[37m\u001b[0m \u001b[1m1s\u001b[0m 617ms/step - categorical_accuracy: 1.0000 - loss: 0.0558 - val_categorical_accuracy: 1.0000 - val_loss: 0.0087 - learning_rate: 1.0000e-05\n",
      "Epoch 211/340\n",
      "\u001b[1m1/1\u001b[0m \u001b[32m━━━━━━━━━━━━━━━━━━━━\u001b[0m\u001b[37m\u001b[0m \u001b[1m1s\u001b[0m 574ms/step - categorical_accuracy: 1.0000 - loss: 0.0556 - val_categorical_accuracy: 1.0000 - val_loss: 0.0087 - learning_rate: 1.0000e-05\n",
      "Epoch 212/340\n",
      "\u001b[1m1/1\u001b[0m \u001b[32m━━━━━━━━━━━━━━━━━━━━\u001b[0m\u001b[37m\u001b[0m \u001b[1m1s\u001b[0m 615ms/step - categorical_accuracy: 1.0000 - loss: 0.0554 - val_categorical_accuracy: 1.0000 - val_loss: 0.0087 - learning_rate: 1.0000e-05\n",
      "Epoch 213/340\n",
      "\u001b[1m1/1\u001b[0m \u001b[32m━━━━━━━━━━━━━━━━━━━━\u001b[0m\u001b[37m\u001b[0m \u001b[1m1s\u001b[0m 542ms/step - categorical_accuracy: 1.0000 - loss: 0.0552 - val_categorical_accuracy: 1.0000 - val_loss: 0.0087 - learning_rate: 1.0000e-05\n",
      "Epoch 214/340\n",
      "\u001b[1m1/1\u001b[0m \u001b[32m━━━━━━━━━━━━━━━━━━━━\u001b[0m\u001b[37m\u001b[0m \u001b[1m1s\u001b[0m 655ms/step - categorical_accuracy: 1.0000 - loss: 0.0550 - val_categorical_accuracy: 1.0000 - val_loss: 0.0087 - learning_rate: 1.0000e-05\n",
      "Epoch 215/340\n",
      "\u001b[1m1/1\u001b[0m \u001b[32m━━━━━━━━━━━━━━━━━━━━\u001b[0m\u001b[37m\u001b[0m \u001b[1m1s\u001b[0m 957ms/step - categorical_accuracy: 1.0000 - loss: 0.0548 - val_categorical_accuracy: 1.0000 - val_loss: 0.0087 - learning_rate: 1.0000e-05\n",
      "Epoch 216/340\n",
      "\u001b[1m1/1\u001b[0m \u001b[32m━━━━━━━━━━━━━━━━━━━━\u001b[0m\u001b[37m\u001b[0m \u001b[1m0s\u001b[0m 392ms/step - categorical_accuracy: 1.0000 - loss: 0.0546 - val_categorical_accuracy: 1.0000 - val_loss: 0.0087 - learning_rate: 1.0000e-05\n",
      "Epoch 217/340\n",
      "\u001b[1m1/1\u001b[0m \u001b[32m━━━━━━━━━━━━━━━━━━━━\u001b[0m\u001b[37m\u001b[0m \u001b[1m1s\u001b[0m 588ms/step - categorical_accuracy: 1.0000 - loss: 0.0544 - val_categorical_accuracy: 1.0000 - val_loss: 0.0087 - learning_rate: 1.0000e-05\n",
      "Epoch 218/340\n",
      "\u001b[1m1/1\u001b[0m \u001b[32m━━━━━━━━━━━━━━━━━━━━\u001b[0m\u001b[37m\u001b[0m \u001b[1m1s\u001b[0m 618ms/step - categorical_accuracy: 1.0000 - loss: 0.0542 - val_categorical_accuracy: 1.0000 - val_loss: 0.0087 - learning_rate: 1.0000e-05\n",
      "Epoch 219/340\n",
      "\u001b[1m1/1\u001b[0m \u001b[32m━━━━━━━━━━━━━━━━━━━━\u001b[0m\u001b[37m\u001b[0m \u001b[1m0s\u001b[0m 362ms/step - categorical_accuracy: 1.0000 - loss: 0.0540 - val_categorical_accuracy: 1.0000 - val_loss: 0.0086 - learning_rate: 1.0000e-05\n",
      "Epoch 220/340\n",
      "\u001b[1m1/1\u001b[0m \u001b[32m━━━━━━━━━━━━━━━━━━━━\u001b[0m\u001b[37m\u001b[0m \u001b[1m1s\u001b[0m 613ms/step - categorical_accuracy: 1.0000 - loss: 0.0538 - val_categorical_accuracy: 1.0000 - val_loss: 0.0086 - learning_rate: 1.0000e-05\n",
      "Epoch 221/340\n",
      "\u001b[1m1/1\u001b[0m \u001b[32m━━━━━━━━━━━━━━━━━━━━\u001b[0m\u001b[37m\u001b[0m \u001b[1m0s\u001b[0m 360ms/step - categorical_accuracy: 1.0000 - loss: 0.0536 - val_categorical_accuracy: 1.0000 - val_loss: 0.0086 - learning_rate: 1.0000e-05\n",
      "Epoch 222/340\n",
      "\u001b[1m1/1\u001b[0m \u001b[32m━━━━━━━━━━━━━━━━━━━━\u001b[0m\u001b[37m\u001b[0m \u001b[1m0s\u001b[0m 349ms/step - categorical_accuracy: 1.0000 - loss: 0.0534 - val_categorical_accuracy: 1.0000 - val_loss: 0.0086 - learning_rate: 1.0000e-05\n",
      "Epoch 223/340\n",
      "\u001b[1m1/1\u001b[0m \u001b[32m━━━━━━━━━━━━━━━━━━━━\u001b[0m\u001b[37m\u001b[0m \u001b[1m0s\u001b[0m 369ms/step - categorical_accuracy: 1.0000 - loss: 0.0531 - val_categorical_accuracy: 1.0000 - val_loss: 0.0086 - learning_rate: 1.0000e-05\n",
      "Epoch 224/340\n",
      "\u001b[1m1/1\u001b[0m \u001b[32m━━━━━━━━━━━━━━━━━━━━\u001b[0m\u001b[37m\u001b[0m \u001b[1m0s\u001b[0m 363ms/step - categorical_accuracy: 1.0000 - loss: 0.0529 - val_categorical_accuracy: 1.0000 - val_loss: 0.0086 - learning_rate: 1.0000e-05\n",
      "Epoch 225/340\n",
      "\u001b[1m1/1\u001b[0m \u001b[32m━━━━━━━━━━━━━━━━━━━━\u001b[0m\u001b[37m\u001b[0m \u001b[1m0s\u001b[0m 378ms/step - categorical_accuracy: 1.0000 - loss: 0.0527 - val_categorical_accuracy: 1.0000 - val_loss: 0.0086 - learning_rate: 1.0000e-05\n",
      "Epoch 226/340\n",
      "\u001b[1m1/1\u001b[0m \u001b[32m━━━━━━━━━━━━━━━━━━━━\u001b[0m\u001b[37m\u001b[0m \u001b[1m1s\u001b[0m 584ms/step - categorical_accuracy: 1.0000 - loss: 0.0524 - val_categorical_accuracy: 1.0000 - val_loss: 0.0086 - learning_rate: 1.0000e-05\n",
      "Epoch 227/340\n",
      "\u001b[1m1/1\u001b[0m \u001b[32m━━━━━━━━━━━━━━━━━━━━\u001b[0m\u001b[37m\u001b[0m \u001b[1m0s\u001b[0m 370ms/step - categorical_accuracy: 1.0000 - loss: 0.0522 - val_categorical_accuracy: 1.0000 - val_loss: 0.0085 - learning_rate: 1.0000e-05\n",
      "Epoch 228/340\n",
      "\u001b[1m1/1\u001b[0m \u001b[32m━━━━━━━━━━━━━━━━━━━━\u001b[0m\u001b[37m\u001b[0m \u001b[1m1s\u001b[0m 599ms/step - categorical_accuracy: 1.0000 - loss: 0.0520 - val_categorical_accuracy: 1.0000 - val_loss: 0.0085 - learning_rate: 1.0000e-05\n",
      "Epoch 229/340\n",
      "\u001b[1m1/1\u001b[0m \u001b[32m━━━━━━━━━━━━━━━━━━━━\u001b[0m\u001b[37m\u001b[0m \u001b[1m0s\u001b[0m 345ms/step - categorical_accuracy: 1.0000 - loss: 0.0517 - val_categorical_accuracy: 1.0000 - val_loss: 0.0085 - learning_rate: 1.0000e-05\n",
      "Epoch 230/340\n",
      "\u001b[1m1/1\u001b[0m \u001b[32m━━━━━━━━━━━━━━━━━━━━\u001b[0m\u001b[37m\u001b[0m \u001b[1m0s\u001b[0m 385ms/step - categorical_accuracy: 1.0000 - loss: 0.0515 - val_categorical_accuracy: 1.0000 - val_loss: 0.0085 - learning_rate: 1.0000e-05\n",
      "Epoch 231/340\n",
      "\u001b[1m1/1\u001b[0m \u001b[32m━━━━━━━━━━━━━━━━━━━━\u001b[0m\u001b[37m\u001b[0m \u001b[1m0s\u001b[0m 359ms/step - categorical_accuracy: 1.0000 - loss: 0.0513 - val_categorical_accuracy: 1.0000 - val_loss: 0.0085 - learning_rate: 1.0000e-05\n",
      "Epoch 232/340\n",
      "\u001b[1m1/1\u001b[0m \u001b[32m━━━━━━━━━━━━━━━━━━━━\u001b[0m\u001b[37m\u001b[0m \u001b[1m1s\u001b[0m 638ms/step - categorical_accuracy: 1.0000 - loss: 0.0510 - val_categorical_accuracy: 1.0000 - val_loss: 0.0085 - learning_rate: 1.0000e-05\n",
      "Epoch 233/340\n",
      "\u001b[1m1/1\u001b[0m \u001b[32m━━━━━━━━━━━━━━━━━━━━\u001b[0m\u001b[37m\u001b[0m \u001b[1m1s\u001b[0m 578ms/step - categorical_accuracy: 1.0000 - loss: 0.0508 - val_categorical_accuracy: 1.0000 - val_loss: 0.0085 - learning_rate: 1.0000e-05\n",
      "Epoch 234/340\n",
      "\u001b[1m1/1\u001b[0m \u001b[32m━━━━━━━━━━━━━━━━━━━━\u001b[0m\u001b[37m\u001b[0m \u001b[1m0s\u001b[0m 370ms/step - categorical_accuracy: 1.0000 - loss: 0.0505 - val_categorical_accuracy: 1.0000 - val_loss: 0.0085 - learning_rate: 1.0000e-05\n",
      "Epoch 235/340\n",
      "\u001b[1m1/1\u001b[0m \u001b[32m━━━━━━━━━━━━━━━━━━━━\u001b[0m\u001b[37m\u001b[0m \u001b[1m1s\u001b[0m 607ms/step - categorical_accuracy: 1.0000 - loss: 0.0503 - val_categorical_accuracy: 1.0000 - val_loss: 0.0084 - learning_rate: 1.0000e-05\n",
      "Epoch 236/340\n",
      "\u001b[1m1/1\u001b[0m \u001b[32m━━━━━━━━━━━━━━━━━━━━\u001b[0m\u001b[37m\u001b[0m \u001b[1m1s\u001b[0m 559ms/step - categorical_accuracy: 1.0000 - loss: 0.0500 - val_categorical_accuracy: 1.0000 - val_loss: 0.0084 - learning_rate: 1.0000e-05\n",
      "Epoch 237/340\n",
      "\u001b[1m1/1\u001b[0m \u001b[32m━━━━━━━━━━━━━━━━━━━━\u001b[0m\u001b[37m\u001b[0m \u001b[1m1s\u001b[0m 714ms/step - categorical_accuracy: 1.0000 - loss: 0.0498 - val_categorical_accuracy: 1.0000 - val_loss: 0.0084 - learning_rate: 1.0000e-05\n",
      "Epoch 238/340\n",
      "\u001b[1m1/1\u001b[0m \u001b[32m━━━━━━━━━━━━━━━━━━━━\u001b[0m\u001b[37m\u001b[0m \u001b[1m1s\u001b[0m 632ms/step - categorical_accuracy: 1.0000 - loss: 0.0495 - val_categorical_accuracy: 1.0000 - val_loss: 0.0084 - learning_rate: 1.0000e-05\n",
      "Epoch 239/340\n",
      "\u001b[1m1/1\u001b[0m \u001b[32m━━━━━━━━━━━━━━━━━━━━\u001b[0m\u001b[37m\u001b[0m \u001b[1m1s\u001b[0m 1s/step - categorical_accuracy: 1.0000 - loss: 0.0493 - val_categorical_accuracy: 1.0000 - val_loss: 0.0084 - learning_rate: 1.0000e-05\n",
      "Epoch 240/340\n",
      "\u001b[1m1/1\u001b[0m \u001b[32m━━━━━━━━━━━━━━━━━━━━\u001b[0m\u001b[37m\u001b[0m \u001b[1m0s\u001b[0m 462ms/step - categorical_accuracy: 1.0000 - loss: 0.0491 - val_categorical_accuracy: 1.0000 - val_loss: 0.0084 - learning_rate: 1.0000e-05\n",
      "Epoch 241/340\n",
      "\u001b[1m1/1\u001b[0m \u001b[32m━━━━━━━━━━━━━━━━━━━━\u001b[0m\u001b[37m\u001b[0m \u001b[1m0s\u001b[0m 374ms/step - categorical_accuracy: 1.0000 - loss: 0.0488 - val_categorical_accuracy: 1.0000 - val_loss: 0.0084 - learning_rate: 1.0000e-05\n",
      "Epoch 242/340\n",
      "\u001b[1m1/1\u001b[0m \u001b[32m━━━━━━━━━━━━━━━━━━━━\u001b[0m\u001b[37m\u001b[0m \u001b[1m0s\u001b[0m 347ms/step - categorical_accuracy: 1.0000 - loss: 0.0486 - val_categorical_accuracy: 1.0000 - val_loss: 0.0084 - learning_rate: 1.0000e-05\n",
      "Epoch 243/340\n",
      "\u001b[1m1/1\u001b[0m \u001b[32m━━━━━━━━━━━━━━━━━━━━\u001b[0m\u001b[37m\u001b[0m \u001b[1m1s\u001b[0m 637ms/step - categorical_accuracy: 1.0000 - loss: 0.0483 - val_categorical_accuracy: 1.0000 - val_loss: 0.0084 - learning_rate: 1.0000e-05\n",
      "Epoch 244/340\n",
      "\u001b[1m1/1\u001b[0m \u001b[32m━━━━━━━━━━━━━━━━━━━━\u001b[0m\u001b[37m\u001b[0m \u001b[1m0s\u001b[0m 367ms/step - categorical_accuracy: 1.0000 - loss: 0.0481 - val_categorical_accuracy: 1.0000 - val_loss: 0.0084 - learning_rate: 1.0000e-05\n",
      "Epoch 245/340\n",
      "\u001b[1m1/1\u001b[0m \u001b[32m━━━━━━━━━━━━━━━━━━━━\u001b[0m\u001b[37m\u001b[0m \u001b[1m1s\u001b[0m 628ms/step - categorical_accuracy: 1.0000 - loss: 0.0478 - val_categorical_accuracy: 1.0000 - val_loss: 0.0083 - learning_rate: 1.0000e-05\n",
      "Epoch 246/340\n",
      "\u001b[1m1/1\u001b[0m \u001b[32m━━━━━━━━━━━━━━━━━━━━\u001b[0m\u001b[37m\u001b[0m \u001b[1m0s\u001b[0m 378ms/step - categorical_accuracy: 1.0000 - loss: 0.0476 - val_categorical_accuracy: 1.0000 - val_loss: 0.0083 - learning_rate: 1.0000e-05\n",
      "Epoch 247/340\n",
      "\u001b[1m1/1\u001b[0m \u001b[32m━━━━━━━━━━━━━━━━━━━━\u001b[0m\u001b[37m\u001b[0m \u001b[1m0s\u001b[0m 362ms/step - categorical_accuracy: 1.0000 - loss: 0.0473 - val_categorical_accuracy: 1.0000 - val_loss: 0.0083 - learning_rate: 1.0000e-05\n",
      "Epoch 248/340\n",
      "\u001b[1m1/1\u001b[0m \u001b[32m━━━━━━━━━━━━━━━━━━━━\u001b[0m\u001b[37m\u001b[0m \u001b[1m1s\u001b[0m 618ms/step - categorical_accuracy: 1.0000 - loss: 0.0471 - val_categorical_accuracy: 1.0000 - val_loss: 0.0083 - learning_rate: 1.0000e-05\n",
      "Epoch 249/340\n",
      "\u001b[1m1/1\u001b[0m \u001b[32m━━━━━━━━━━━━━━━━━━━━\u001b[0m\u001b[37m\u001b[0m \u001b[1m0s\u001b[0m 381ms/step - categorical_accuracy: 1.0000 - loss: 0.0468 - val_categorical_accuracy: 1.0000 - val_loss: 0.0083 - learning_rate: 1.0000e-05\n",
      "Epoch 250/340\n",
      "\u001b[1m1/1\u001b[0m \u001b[32m━━━━━━━━━━━━━━━━━━━━\u001b[0m\u001b[37m\u001b[0m \u001b[1m1s\u001b[0m 611ms/step - categorical_accuracy: 1.0000 - loss: 0.0466 - val_categorical_accuracy: 1.0000 - val_loss: 0.0083 - learning_rate: 1.0000e-05\n",
      "Epoch 251/340\n",
      "\u001b[1m1/1\u001b[0m \u001b[32m━━━━━━━━━━━━━━━━━━━━\u001b[0m\u001b[37m\u001b[0m \u001b[1m1s\u001b[0m 578ms/step - categorical_accuracy: 1.0000 - loss: 0.0464 - val_categorical_accuracy: 1.0000 - val_loss: 0.0083 - learning_rate: 1.0000e-05\n",
      "Epoch 252/340\n",
      "\u001b[1m1/1\u001b[0m \u001b[32m━━━━━━━━━━━━━━━━━━━━\u001b[0m\u001b[37m\u001b[0m \u001b[1m1s\u001b[0m 624ms/step - categorical_accuracy: 1.0000 - loss: 0.0461 - val_categorical_accuracy: 1.0000 - val_loss: 0.0083 - learning_rate: 1.0000e-05\n",
      "Epoch 253/340\n",
      "\u001b[1m1/1\u001b[0m \u001b[32m━━━━━━━━━━━━━━━━━━━━\u001b[0m\u001b[37m\u001b[0m \u001b[1m1s\u001b[0m 642ms/step - categorical_accuracy: 1.0000 - loss: 0.0459 - val_categorical_accuracy: 1.0000 - val_loss: 0.0083 - learning_rate: 1.0000e-05\n",
      "Epoch 254/340\n",
      "\u001b[1m1/1\u001b[0m \u001b[32m━━━━━━━━━━━━━━━━━━━━\u001b[0m\u001b[37m\u001b[0m \u001b[1m1s\u001b[0m 619ms/step - categorical_accuracy: 1.0000 - loss: 0.0456 - val_categorical_accuracy: 1.0000 - val_loss: 0.0083 - learning_rate: 1.0000e-05\n",
      "Epoch 255/340\n",
      "\u001b[1m1/1\u001b[0m \u001b[32m━━━━━━━━━━━━━━━━━━━━\u001b[0m\u001b[37m\u001b[0m \u001b[1m0s\u001b[0m 340ms/step - categorical_accuracy: 1.0000 - loss: 0.0454 - val_categorical_accuracy: 1.0000 - val_loss: 0.0083 - learning_rate: 1.0000e-05\n",
      "Epoch 256/340\n",
      "\u001b[1m1/1\u001b[0m \u001b[32m━━━━━━━━━━━━━━━━━━━━\u001b[0m\u001b[37m\u001b[0m \u001b[1m0s\u001b[0m 346ms/step - categorical_accuracy: 1.0000 - loss: 0.0452 - val_categorical_accuracy: 1.0000 - val_loss: 0.0082 - learning_rate: 1.0000e-05\n",
      "Epoch 257/340\n",
      "\u001b[1m1/1\u001b[0m \u001b[32m━━━━━━━━━━━━━━━━━━━━\u001b[0m\u001b[37m\u001b[0m \u001b[1m1s\u001b[0m 656ms/step - categorical_accuracy: 1.0000 - loss: 0.0449 - val_categorical_accuracy: 1.0000 - val_loss: 0.0082 - learning_rate: 1.0000e-05\n",
      "Epoch 258/340\n",
      "\u001b[1m1/1\u001b[0m \u001b[32m━━━━━━━━━━━━━━━━━━━━\u001b[0m\u001b[37m\u001b[0m \u001b[1m1s\u001b[0m 683ms/step - categorical_accuracy: 1.0000 - loss: 0.0447 - val_categorical_accuracy: 1.0000 - val_loss: 0.0082 - learning_rate: 1.0000e-05\n",
      "Epoch 259/340\n",
      "\u001b[1m1/1\u001b[0m \u001b[32m━━━━━━━━━━━━━━━━━━━━\u001b[0m\u001b[37m\u001b[0m \u001b[1m1s\u001b[0m 558ms/step - categorical_accuracy: 1.0000 - loss: 0.0444 - val_categorical_accuracy: 1.0000 - val_loss: 0.0082 - learning_rate: 1.0000e-05\n",
      "Epoch 260/340\n",
      "\u001b[1m1/1\u001b[0m \u001b[32m━━━━━━━━━━━━━━━━━━━━\u001b[0m\u001b[37m\u001b[0m \u001b[1m1s\u001b[0m 893ms/step - categorical_accuracy: 1.0000 - loss: 0.0442 - val_categorical_accuracy: 1.0000 - val_loss: 0.0082 - learning_rate: 1.0000e-05\n",
      "Epoch 261/340\n",
      "\u001b[1m1/1\u001b[0m \u001b[32m━━━━━━━━━━━━━━━━━━━━\u001b[0m\u001b[37m\u001b[0m \u001b[1m1s\u001b[0m 1s/step - categorical_accuracy: 1.0000 - loss: 0.0440 - val_categorical_accuracy: 1.0000 - val_loss: 0.0082 - learning_rate: 1.0000e-05\n",
      "Epoch 262/340\n",
      "\u001b[1m1/1\u001b[0m \u001b[32m━━━━━━━━━━━━━━━━━━━━\u001b[0m\u001b[37m\u001b[0m \u001b[1m1s\u001b[0m 656ms/step - categorical_accuracy: 1.0000 - loss: 0.0437 - val_categorical_accuracy: 1.0000 - val_loss: 0.0082 - learning_rate: 1.0000e-05\n",
      "Epoch 263/340\n",
      "\u001b[1m1/1\u001b[0m \u001b[32m━━━━━━━━━━━━━━━━━━━━\u001b[0m\u001b[37m\u001b[0m \u001b[1m1s\u001b[0m 973ms/step - categorical_accuracy: 1.0000 - loss: 0.0435 - val_categorical_accuracy: 1.0000 - val_loss: 0.0082 - learning_rate: 1.0000e-05\n",
      "Epoch 264/340\n",
      "\u001b[1m1/1\u001b[0m \u001b[32m━━━━━━━━━━━━━━━━━━━━\u001b[0m\u001b[37m\u001b[0m \u001b[1m0s\u001b[0m 354ms/step - categorical_accuracy: 1.0000 - loss: 0.0433 - val_categorical_accuracy: 1.0000 - val_loss: 0.0082 - learning_rate: 1.0000e-05\n",
      "Epoch 265/340\n",
      "\u001b[1m1/1\u001b[0m \u001b[32m━━━━━━━━━━━━━━━━━━━━\u001b[0m\u001b[37m\u001b[0m \u001b[1m1s\u001b[0m 637ms/step - categorical_accuracy: 1.0000 - loss: 0.0430 - val_categorical_accuracy: 1.0000 - val_loss: 0.0082 - learning_rate: 1.0000e-05\n",
      "Epoch 266/340\n",
      "\u001b[1m1/1\u001b[0m \u001b[32m━━━━━━━━━━━━━━━━━━━━\u001b[0m\u001b[37m\u001b[0m \u001b[1m0s\u001b[0m 368ms/step - categorical_accuracy: 1.0000 - loss: 0.0428 - val_categorical_accuracy: 1.0000 - val_loss: 0.0081 - learning_rate: 1.0000e-05\n",
      "Epoch 267/340\n",
      "\u001b[1m1/1\u001b[0m \u001b[32m━━━━━━━━━━━━━━━━━━━━\u001b[0m\u001b[37m\u001b[0m \u001b[1m1s\u001b[0m 596ms/step - categorical_accuracy: 1.0000 - loss: 0.0426 - val_categorical_accuracy: 1.0000 - val_loss: 0.0081 - learning_rate: 1.0000e-05\n",
      "Epoch 268/340\n",
      "\u001b[1m1/1\u001b[0m \u001b[32m━━━━━━━━━━━━━━━━━━━━\u001b[0m\u001b[37m\u001b[0m \u001b[1m1s\u001b[0m 614ms/step - categorical_accuracy: 1.0000 - loss: 0.0424 - val_categorical_accuracy: 1.0000 - val_loss: 0.0081 - learning_rate: 1.0000e-05\n",
      "Epoch 269/340\n",
      "\u001b[1m1/1\u001b[0m \u001b[32m━━━━━━━━━━━━━━━━━━━━\u001b[0m\u001b[37m\u001b[0m \u001b[1m0s\u001b[0m 369ms/step - categorical_accuracy: 1.0000 - loss: 0.0421 - val_categorical_accuracy: 1.0000 - val_loss: 0.0081 - learning_rate: 1.0000e-05\n",
      "Epoch 270/340\n",
      "\u001b[1m1/1\u001b[0m \u001b[32m━━━━━━━━━━━━━━━━━━━━\u001b[0m\u001b[37m\u001b[0m \u001b[1m0s\u001b[0m 383ms/step - categorical_accuracy: 1.0000 - loss: 0.0419 - val_categorical_accuracy: 1.0000 - val_loss: 0.0081 - learning_rate: 1.0000e-05\n",
      "Epoch 271/340\n",
      "\u001b[1m1/1\u001b[0m \u001b[32m━━━━━━━━━━━━━━━━━━━━\u001b[0m\u001b[37m\u001b[0m \u001b[1m0s\u001b[0m 341ms/step - categorical_accuracy: 1.0000 - loss: 0.0417 - val_categorical_accuracy: 1.0000 - val_loss: 0.0081 - learning_rate: 1.0000e-05\n",
      "Epoch 272/340\n",
      "\u001b[1m1/1\u001b[0m \u001b[32m━━━━━━━━━━━━━━━━━━━━\u001b[0m\u001b[37m\u001b[0m \u001b[1m0s\u001b[0m 378ms/step - categorical_accuracy: 1.0000 - loss: 0.0415 - val_categorical_accuracy: 1.0000 - val_loss: 0.0081 - learning_rate: 1.0000e-05\n",
      "Epoch 273/340\n",
      "\u001b[1m1/1\u001b[0m \u001b[32m━━━━━━━━━━━━━━━━━━━━\u001b[0m\u001b[37m\u001b[0m \u001b[1m1s\u001b[0m 601ms/step - categorical_accuracy: 1.0000 - loss: 0.0413 - val_categorical_accuracy: 1.0000 - val_loss: 0.0081 - learning_rate: 1.0000e-05\n",
      "Epoch 274/340\n",
      "\u001b[1m1/1\u001b[0m \u001b[32m━━━━━━━━━━━━━━━━━━━━\u001b[0m\u001b[37m\u001b[0m \u001b[1m1s\u001b[0m 623ms/step - categorical_accuracy: 1.0000 - loss: 0.0410 - val_categorical_accuracy: 1.0000 - val_loss: 0.0081 - learning_rate: 1.0000e-05\n",
      "Epoch 275/340\n",
      "\u001b[1m1/1\u001b[0m \u001b[32m━━━━━━━━━━━━━━━━━━━━\u001b[0m\u001b[37m\u001b[0m \u001b[1m0s\u001b[0m 335ms/step - categorical_accuracy: 1.0000 - loss: 0.0408 - val_categorical_accuracy: 1.0000 - val_loss: 0.0080 - learning_rate: 1.0000e-05\n",
      "Epoch 276/340\n",
      "\u001b[1m1/1\u001b[0m \u001b[32m━━━━━━━━━━━━━━━━━━━━\u001b[0m\u001b[37m\u001b[0m \u001b[1m1s\u001b[0m 661ms/step - categorical_accuracy: 1.0000 - loss: 0.0406 - val_categorical_accuracy: 1.0000 - val_loss: 0.0080 - learning_rate: 1.0000e-05\n",
      "Epoch 277/340\n",
      "\u001b[1m1/1\u001b[0m \u001b[32m━━━━━━━━━━━━━━━━━━━━\u001b[0m\u001b[37m\u001b[0m \u001b[1m1s\u001b[0m 575ms/step - categorical_accuracy: 1.0000 - loss: 0.0404 - val_categorical_accuracy: 1.0000 - val_loss: 0.0080 - learning_rate: 1.0000e-05\n",
      "Epoch 278/340\n",
      "\u001b[1m1/1\u001b[0m \u001b[32m━━━━━━━━━━━━━━━━━━━━\u001b[0m\u001b[37m\u001b[0m \u001b[1m1s\u001b[0m 584ms/step - categorical_accuracy: 1.0000 - loss: 0.0403 - val_categorical_accuracy: 1.0000 - val_loss: 0.0080 - learning_rate: 1.0000e-05\n",
      "Epoch 279/340\n",
      "\u001b[1m1/1\u001b[0m \u001b[32m━━━━━━━━━━━━━━━━━━━━\u001b[0m\u001b[37m\u001b[0m \u001b[1m0s\u001b[0m 362ms/step - categorical_accuracy: 1.0000 - loss: 0.0401 - val_categorical_accuracy: 1.0000 - val_loss: 0.0080 - learning_rate: 1.0000e-05\n",
      "Epoch 280/340\n",
      "\u001b[1m1/1\u001b[0m \u001b[32m━━━━━━━━━━━━━━━━━━━━\u001b[0m\u001b[37m\u001b[0m \u001b[1m0s\u001b[0m 352ms/step - categorical_accuracy: 1.0000 - loss: 0.0398 - val_categorical_accuracy: 1.0000 - val_loss: 0.0080 - learning_rate: 1.0000e-05\n",
      "Epoch 281/340\n",
      "\u001b[1m1/1\u001b[0m \u001b[32m━━━━━━━━━━━━━━━━━━━━\u001b[0m\u001b[37m\u001b[0m \u001b[1m0s\u001b[0m 367ms/step - categorical_accuracy: 1.0000 - loss: 0.0396 - val_categorical_accuracy: 1.0000 - val_loss: 0.0080 - learning_rate: 1.0000e-05\n",
      "Epoch 282/340\n",
      "\u001b[1m1/1\u001b[0m \u001b[32m━━━━━━━━━━━━━━━━━━━━\u001b[0m\u001b[37m\u001b[0m \u001b[1m0s\u001b[0m 366ms/step - categorical_accuracy: 1.0000 - loss: 0.0394 - val_categorical_accuracy: 1.0000 - val_loss: 0.0079 - learning_rate: 1.0000e-05\n",
      "Epoch 283/340\n",
      "\u001b[1m1/1\u001b[0m \u001b[32m━━━━━━━━━━━━━━━━━━━━\u001b[0m\u001b[37m\u001b[0m \u001b[1m0s\u001b[0m 472ms/step - categorical_accuracy: 1.0000 - loss: 0.0392 - val_categorical_accuracy: 1.0000 - val_loss: 0.0079 - learning_rate: 1.0000e-05\n",
      "Epoch 284/340\n",
      "\u001b[1m1/1\u001b[0m \u001b[32m━━━━━━━━━━━━━━━━━━━━\u001b[0m\u001b[37m\u001b[0m \u001b[1m1s\u001b[0m 568ms/step - categorical_accuracy: 1.0000 - loss: 0.0390 - val_categorical_accuracy: 1.0000 - val_loss: 0.0079 - learning_rate: 1.0000e-05\n",
      "Epoch 285/340\n",
      "\u001b[1m1/1\u001b[0m \u001b[32m━━━━━━━━━━━━━━━━━━━━\u001b[0m\u001b[37m\u001b[0m \u001b[1m1s\u001b[0m 607ms/step - categorical_accuracy: 1.0000 - loss: 0.0388 - val_categorical_accuracy: 1.0000 - val_loss: 0.0079 - learning_rate: 1.0000e-05\n",
      "Epoch 286/340\n",
      "\u001b[1m1/1\u001b[0m \u001b[32m━━━━━━━━━━━━━━━━━━━━\u001b[0m\u001b[37m\u001b[0m \u001b[1m1s\u001b[0m 545ms/step - categorical_accuracy: 1.0000 - loss: 0.0386 - val_categorical_accuracy: 1.0000 - val_loss: 0.0079 - learning_rate: 1.0000e-05\n",
      "Epoch 287/340\n",
      "\u001b[1m1/1\u001b[0m \u001b[32m━━━━━━━━━━━━━━━━━━━━\u001b[0m\u001b[37m\u001b[0m \u001b[1m1s\u001b[0m 685ms/step - categorical_accuracy: 1.0000 - loss: 0.0384 - val_categorical_accuracy: 1.0000 - val_loss: 0.0079 - learning_rate: 1.0000e-05\n",
      "Epoch 288/340\n",
      "\u001b[1m1/1\u001b[0m \u001b[32m━━━━━━━━━━━━━━━━━━━━\u001b[0m\u001b[37m\u001b[0m \u001b[1m1s\u001b[0m 656ms/step - categorical_accuracy: 1.0000 - loss: 0.0382 - val_categorical_accuracy: 1.0000 - val_loss: 0.0079 - learning_rate: 1.0000e-05\n",
      "Epoch 289/340\n",
      "\u001b[1m1/1\u001b[0m \u001b[32m━━━━━━━━━━━━━━━━━━━━\u001b[0m\u001b[37m\u001b[0m \u001b[1m1s\u001b[0m 999ms/step - categorical_accuracy: 1.0000 - loss: 0.0380 - val_categorical_accuracy: 1.0000 - val_loss: 0.0078 - learning_rate: 1.0000e-05\n",
      "Epoch 290/340\n",
      "\u001b[1m1/1\u001b[0m \u001b[32m━━━━━━━━━━━━━━━━━━━━\u001b[0m\u001b[37m\u001b[0m \u001b[1m0s\u001b[0m 323ms/step - categorical_accuracy: 1.0000 - loss: 0.0378 - val_categorical_accuracy: 1.0000 - val_loss: 0.0078 - learning_rate: 1.0000e-05\n",
      "Epoch 291/340\n",
      "\u001b[1m1/1\u001b[0m \u001b[32m━━━━━━━━━━━━━━━━━━━━\u001b[0m\u001b[37m\u001b[0m \u001b[1m1s\u001b[0m 656ms/step - categorical_accuracy: 1.0000 - loss: 0.0376 - val_categorical_accuracy: 1.0000 - val_loss: 0.0078 - learning_rate: 1.0000e-05\n",
      "Epoch 292/340\n",
      "\u001b[1m1/1\u001b[0m \u001b[32m━━━━━━━━━━━━━━━━━━━━\u001b[0m\u001b[37m\u001b[0m \u001b[1m0s\u001b[0m 342ms/step - categorical_accuracy: 1.0000 - loss: 0.0375 - val_categorical_accuracy: 1.0000 - val_loss: 0.0078 - learning_rate: 1.0000e-05\n",
      "Epoch 293/340\n",
      "\u001b[1m1/1\u001b[0m \u001b[32m━━━━━━━━━━━━━━━━━━━━\u001b[0m\u001b[37m\u001b[0m \u001b[1m0s\u001b[0m 367ms/step - categorical_accuracy: 1.0000 - loss: 0.0373 - val_categorical_accuracy: 1.0000 - val_loss: 0.0078 - learning_rate: 1.0000e-05\n",
      "Epoch 294/340\n",
      "\u001b[1m1/1\u001b[0m \u001b[32m━━━━━━━━━━━━━━━━━━━━\u001b[0m\u001b[37m\u001b[0m \u001b[1m0s\u001b[0m 332ms/step - categorical_accuracy: 1.0000 - loss: 0.0371 - val_categorical_accuracy: 1.0000 - val_loss: 0.0078 - learning_rate: 1.0000e-05\n",
      "Epoch 295/340\n",
      "\u001b[1m1/1\u001b[0m \u001b[32m━━━━━━━━━━━━━━━━━━━━\u001b[0m\u001b[37m\u001b[0m \u001b[1m0s\u001b[0m 373ms/step - categorical_accuracy: 1.0000 - loss: 0.0369 - val_categorical_accuracy: 1.0000 - val_loss: 0.0077 - learning_rate: 1.0000e-05\n",
      "Epoch 296/340\n",
      "\u001b[1m1/1\u001b[0m \u001b[32m━━━━━━━━━━━━━━━━━━━━\u001b[0m\u001b[37m\u001b[0m \u001b[1m1s\u001b[0m 557ms/step - categorical_accuracy: 1.0000 - loss: 0.0367 - val_categorical_accuracy: 1.0000 - val_loss: 0.0078 - learning_rate: 1.0000e-05\n",
      "Epoch 297/340\n",
      "\u001b[1m1/1\u001b[0m \u001b[32m━━━━━━━━━━━━━━━━━━━━\u001b[0m\u001b[37m\u001b[0m \u001b[1m0s\u001b[0m 381ms/step - categorical_accuracy: 1.0000 - loss: 0.0366 - val_categorical_accuracy: 1.0000 - val_loss: 0.0077 - learning_rate: 1.0000e-05\n",
      "Epoch 298/340\n",
      "\u001b[1m1/1\u001b[0m \u001b[32m━━━━━━━━━━━━━━━━━━━━\u001b[0m\u001b[37m\u001b[0m \u001b[1m1s\u001b[0m 557ms/step - categorical_accuracy: 1.0000 - loss: 0.0364 - val_categorical_accuracy: 1.0000 - val_loss: 0.0077 - learning_rate: 1.0000e-05\n",
      "Epoch 299/340\n",
      "\u001b[1m1/1\u001b[0m \u001b[32m━━━━━━━━━━━━━━━━━━━━\u001b[0m\u001b[37m\u001b[0m \u001b[1m1s\u001b[0m 680ms/step - categorical_accuracy: 1.0000 - loss: 0.0362 - val_categorical_accuracy: 1.0000 - val_loss: 0.0077 - learning_rate: 1.0000e-05\n",
      "Epoch 300/340\n",
      "\u001b[1m1/1\u001b[0m \u001b[32m━━━━━━━━━━━━━━━━━━━━\u001b[0m\u001b[37m\u001b[0m \u001b[1m1s\u001b[0m 602ms/step - categorical_accuracy: 1.0000 - loss: 0.0360 - val_categorical_accuracy: 1.0000 - val_loss: 0.0077 - learning_rate: 1.0000e-05\n",
      "Epoch 301/340\n",
      "\u001b[1m1/1\u001b[0m \u001b[32m━━━━━━━━━━━━━━━━━━━━\u001b[0m\u001b[37m\u001b[0m \u001b[1m1s\u001b[0m 602ms/step - categorical_accuracy: 1.0000 - loss: 0.0358 - val_categorical_accuracy: 1.0000 - val_loss: 0.0077 - learning_rate: 1.0000e-05\n",
      "Epoch 302/340\n",
      "\u001b[1m1/1\u001b[0m \u001b[32m━━━━━━━━━━━━━━━━━━━━\u001b[0m\u001b[37m\u001b[0m \u001b[1m1s\u001b[0m 652ms/step - categorical_accuracy: 1.0000 - loss: 0.0357 - val_categorical_accuracy: 1.0000 - val_loss: 0.0077 - learning_rate: 1.0000e-05\n",
      "Epoch 303/340\n",
      "\u001b[1m1/1\u001b[0m \u001b[32m━━━━━━━━━━━━━━━━━━━━\u001b[0m\u001b[37m\u001b[0m \u001b[1m1s\u001b[0m 615ms/step - categorical_accuracy: 1.0000 - loss: 0.0355 - val_categorical_accuracy: 1.0000 - val_loss: 0.0077 - learning_rate: 1.0000e-06\n",
      "Epoch 304/340\n",
      "\u001b[1m1/1\u001b[0m \u001b[32m━━━━━━━━━━━━━━━━━━━━\u001b[0m\u001b[37m\u001b[0m \u001b[1m1s\u001b[0m 637ms/step - categorical_accuracy: 1.0000 - loss: 0.0355 - val_categorical_accuracy: 1.0000 - val_loss: 0.0077 - learning_rate: 1.0000e-06\n",
      "Epoch 305/340\n",
      "\u001b[1m1/1\u001b[0m \u001b[32m━━━━━━━━━━━━━━━━━━━━\u001b[0m\u001b[37m\u001b[0m \u001b[1m0s\u001b[0m 349ms/step - categorical_accuracy: 1.0000 - loss: 0.0354 - val_categorical_accuracy: 1.0000 - val_loss: 0.0076 - learning_rate: 1.0000e-06\n",
      "Epoch 306/340\n",
      "\u001b[1m1/1\u001b[0m \u001b[32m━━━━━━━━━━━━━━━━━━━━\u001b[0m\u001b[37m\u001b[0m \u001b[1m0s\u001b[0m 364ms/step - categorical_accuracy: 1.0000 - loss: 0.0354 - val_categorical_accuracy: 1.0000 - val_loss: 0.0076 - learning_rate: 1.0000e-06\n",
      "Epoch 307/340\n",
      "\u001b[1m1/1\u001b[0m \u001b[32m━━━━━━━━━━━━━━━━━━━━\u001b[0m\u001b[37m\u001b[0m \u001b[1m1s\u001b[0m 610ms/step - categorical_accuracy: 1.0000 - loss: 0.0354 - val_categorical_accuracy: 1.0000 - val_loss: 0.0076 - learning_rate: 1.0000e-06\n",
      "Epoch 308/340\n",
      "\u001b[1m1/1\u001b[0m \u001b[32m━━━━━━━━━━━━━━━━━━━━\u001b[0m\u001b[37m\u001b[0m \u001b[1m1s\u001b[0m 877ms/step - categorical_accuracy: 1.0000 - loss: 0.0354 - val_categorical_accuracy: 1.0000 - val_loss: 0.0076 - learning_rate: 1.0000e-06\n",
      "Epoch 309/340\n",
      "\u001b[1m1/1\u001b[0m \u001b[32m━━━━━━━━━━━━━━━━━━━━\u001b[0m\u001b[37m\u001b[0m \u001b[1m1s\u001b[0m 560ms/step - categorical_accuracy: 1.0000 - loss: 0.0354 - val_categorical_accuracy: 1.0000 - val_loss: 0.0076 - learning_rate: 1.0000e-06\n",
      "Epoch 310/340\n",
      "\u001b[1m1/1\u001b[0m \u001b[32m━━━━━━━━━━━━━━━━━━━━\u001b[0m\u001b[37m\u001b[0m \u001b[1m1s\u001b[0m 617ms/step - categorical_accuracy: 1.0000 - loss: 0.0353 - val_categorical_accuracy: 1.0000 - val_loss: 0.0076 - learning_rate: 1.0000e-06\n",
      "Epoch 311/340\n",
      "\u001b[1m1/1\u001b[0m \u001b[32m━━━━━━━━━━━━━━━━━━━━\u001b[0m\u001b[37m\u001b[0m \u001b[1m1s\u001b[0m 622ms/step - categorical_accuracy: 1.0000 - loss: 0.0353 - val_categorical_accuracy: 1.0000 - val_loss: 0.0076 - learning_rate: 1.0000e-06\n",
      "Epoch 312/340\n",
      "\u001b[1m1/1\u001b[0m \u001b[32m━━━━━━━━━━━━━━━━━━━━\u001b[0m\u001b[37m\u001b[0m \u001b[1m1s\u001b[0m 698ms/step - categorical_accuracy: 1.0000 - loss: 0.0353 - val_categorical_accuracy: 1.0000 - val_loss: 0.0076 - learning_rate: 1.0000e-06\n",
      "Epoch 313/340\n",
      "\u001b[1m1/1\u001b[0m \u001b[32m━━━━━━━━━━━━━━━━━━━━\u001b[0m\u001b[37m\u001b[0m \u001b[1m1s\u001b[0m 978ms/step - categorical_accuracy: 1.0000 - loss: 0.0353 - val_categorical_accuracy: 1.0000 - val_loss: 0.0076 - learning_rate: 1.0000e-06\n",
      "Epoch 314/340\n",
      "\u001b[1m1/1\u001b[0m \u001b[32m━━━━━━━━━━━━━━━━━━━━\u001b[0m\u001b[37m\u001b[0m \u001b[1m0s\u001b[0m 363ms/step - categorical_accuracy: 1.0000 - loss: 0.0353 - val_categorical_accuracy: 1.0000 - val_loss: 0.0076 - learning_rate: 1.0000e-06\n",
      "Epoch 315/340\n",
      "\u001b[1m1/1\u001b[0m \u001b[32m━━━━━━━━━━━━━━━━━━━━\u001b[0m\u001b[37m\u001b[0m \u001b[1m1s\u001b[0m 601ms/step - categorical_accuracy: 1.0000 - loss: 0.0353 - val_categorical_accuracy: 1.0000 - val_loss: 0.0076 - learning_rate: 1.0000e-06\n",
      "Epoch 316/340\n",
      "\u001b[1m1/1\u001b[0m \u001b[32m━━━━━━━━━━━━━━━━━━━━\u001b[0m\u001b[37m\u001b[0m \u001b[1m1s\u001b[0m 672ms/step - categorical_accuracy: 1.0000 - loss: 0.0352 - val_categorical_accuracy: 1.0000 - val_loss: 0.0076 - learning_rate: 1.0000e-06\n",
      "Epoch 317/340\n",
      "\u001b[1m1/1\u001b[0m \u001b[32m━━━━━━━━━━━━━━━━━━━━\u001b[0m\u001b[37m\u001b[0m \u001b[1m0s\u001b[0m 371ms/step - categorical_accuracy: 1.0000 - loss: 0.0352 - val_categorical_accuracy: 1.0000 - val_loss: 0.0076 - learning_rate: 1.0000e-06\n",
      "Epoch 318/340\n",
      "\u001b[1m1/1\u001b[0m \u001b[32m━━━━━━━━━━━━━━━━━━━━\u001b[0m\u001b[37m\u001b[0m \u001b[1m1s\u001b[0m 617ms/step - categorical_accuracy: 1.0000 - loss: 0.0352 - val_categorical_accuracy: 1.0000 - val_loss: 0.0076 - learning_rate: 1.0000e-06\n",
      "Epoch 319/340\n",
      "\u001b[1m1/1\u001b[0m \u001b[32m━━━━━━━━━━━━━━━━━━━━\u001b[0m\u001b[37m\u001b[0m \u001b[1m0s\u001b[0m 351ms/step - categorical_accuracy: 1.0000 - loss: 0.0352 - val_categorical_accuracy: 1.0000 - val_loss: 0.0076 - learning_rate: 1.0000e-06\n",
      "Epoch 320/340\n",
      "\u001b[1m1/1\u001b[0m \u001b[32m━━━━━━━━━━━━━━━━━━━━\u001b[0m\u001b[37m\u001b[0m \u001b[1m0s\u001b[0m 362ms/step - categorical_accuracy: 1.0000 - loss: 0.0352 - val_categorical_accuracy: 1.0000 - val_loss: 0.0076 - learning_rate: 1.0000e-06\n",
      "Epoch 321/340\n",
      "\u001b[1m1/1\u001b[0m \u001b[32m━━━━━━━━━━━━━━━━━━━━\u001b[0m\u001b[37m\u001b[0m \u001b[1m1s\u001b[0m 616ms/step - categorical_accuracy: 1.0000 - loss: 0.0351 - val_categorical_accuracy: 1.0000 - val_loss: 0.0076 - learning_rate: 1.0000e-06\n",
      "Epoch 322/340\n",
      "\u001b[1m1/1\u001b[0m \u001b[32m━━━━━━━━━━━━━━━━━━━━\u001b[0m\u001b[37m\u001b[0m \u001b[1m0s\u001b[0m 342ms/step - categorical_accuracy: 1.0000 - loss: 0.0351 - val_categorical_accuracy: 1.0000 - val_loss: 0.0076 - learning_rate: 1.0000e-06\n",
      "Epoch 323/340\n",
      "\u001b[1m1/1\u001b[0m \u001b[32m━━━━━━━━━━━━━━━━━━━━\u001b[0m\u001b[37m\u001b[0m \u001b[1m0s\u001b[0m 369ms/step - categorical_accuracy: 1.0000 - loss: 0.0351 - val_categorical_accuracy: 1.0000 - val_loss: 0.0076 - learning_rate: 1.0000e-06\n",
      "Epoch 324/340\n",
      "\u001b[1m1/1\u001b[0m \u001b[32m━━━━━━━━━━━━━━━━━━━━\u001b[0m\u001b[37m\u001b[0m \u001b[1m0s\u001b[0m 355ms/step - categorical_accuracy: 1.0000 - loss: 0.0351 - val_categorical_accuracy: 1.0000 - val_loss: 0.0076 - learning_rate: 1.0000e-06\n",
      "Epoch 325/340\n",
      "\u001b[1m1/1\u001b[0m \u001b[32m━━━━━━━━━━━━━━━━━━━━\u001b[0m\u001b[37m\u001b[0m \u001b[1m0s\u001b[0m 358ms/step - categorical_accuracy: 1.0000 - loss: 0.0351 - val_categorical_accuracy: 1.0000 - val_loss: 0.0076 - learning_rate: 1.0000e-06\n",
      "Epoch 326/340\n",
      "\u001b[1m1/1\u001b[0m \u001b[32m━━━━━━━━━━━━━━━━━━━━\u001b[0m\u001b[37m\u001b[0m \u001b[1m1s\u001b[0m 635ms/step - categorical_accuracy: 1.0000 - loss: 0.0350 - val_categorical_accuracy: 1.0000 - val_loss: 0.0076 - learning_rate: 1.0000e-06\n",
      "Epoch 327/340\n",
      "\u001b[1m1/1\u001b[0m \u001b[32m━━━━━━━━━━━━━━━━━━━━\u001b[0m\u001b[37m\u001b[0m \u001b[1m0s\u001b[0m 369ms/step - categorical_accuracy: 1.0000 - loss: 0.0350 - val_categorical_accuracy: 1.0000 - val_loss: 0.0076 - learning_rate: 1.0000e-06\n",
      "Epoch 328/340\n",
      "\u001b[1m1/1\u001b[0m \u001b[32m━━━━━━━━━━━━━━━━━━━━\u001b[0m\u001b[37m\u001b[0m \u001b[1m0s\u001b[0m 380ms/step - categorical_accuracy: 1.0000 - loss: 0.0350 - val_categorical_accuracy: 1.0000 - val_loss: 0.0076 - learning_rate: 1.0000e-06\n",
      "Epoch 329/340\n",
      "\u001b[1m1/1\u001b[0m \u001b[32m━━━━━━━━━━━━━━━━━━━━\u001b[0m\u001b[37m\u001b[0m \u001b[1m0s\u001b[0m 383ms/step - categorical_accuracy: 1.0000 - loss: 0.0350 - val_categorical_accuracy: 1.0000 - val_loss: 0.0076 - learning_rate: 1.0000e-06\n",
      "Epoch 330/340\n",
      "\u001b[1m1/1\u001b[0m \u001b[32m━━━━━━━━━━━━━━━━━━━━\u001b[0m\u001b[37m\u001b[0m \u001b[1m1s\u001b[0m 617ms/step - categorical_accuracy: 1.0000 - loss: 0.0350 - val_categorical_accuracy: 1.0000 - val_loss: 0.0076 - learning_rate: 1.0000e-06\n",
      "Epoch 331/340\n",
      "\u001b[1m1/1\u001b[0m \u001b[32m━━━━━━━━━━━━━━━━━━━━\u001b[0m\u001b[37m\u001b[0m \u001b[1m0s\u001b[0m 376ms/step - categorical_accuracy: 1.0000 - loss: 0.0350 - val_categorical_accuracy: 1.0000 - val_loss: 0.0076 - learning_rate: 1.0000e-06\n",
      "Epoch 332/340\n",
      "\u001b[1m1/1\u001b[0m \u001b[32m━━━━━━━━━━━━━━━━━━━━\u001b[0m\u001b[37m\u001b[0m \u001b[1m0s\u001b[0m 346ms/step - categorical_accuracy: 1.0000 - loss: 0.0349 - val_categorical_accuracy: 1.0000 - val_loss: 0.0076 - learning_rate: 1.0000e-06\n",
      "Epoch 333/340\n",
      "\u001b[1m1/1\u001b[0m \u001b[32m━━━━━━━━━━━━━━━━━━━━\u001b[0m\u001b[37m\u001b[0m \u001b[1m1s\u001b[0m 641ms/step - categorical_accuracy: 1.0000 - loss: 0.0349 - val_categorical_accuracy: 1.0000 - val_loss: 0.0076 - learning_rate: 1.0000e-06\n",
      "Epoch 334/340\n",
      "\u001b[1m1/1\u001b[0m \u001b[32m━━━━━━━━━━━━━━━━━━━━\u001b[0m\u001b[37m\u001b[0m \u001b[1m0s\u001b[0m 496ms/step - categorical_accuracy: 1.0000 - loss: 0.0349 - val_categorical_accuracy: 1.0000 - val_loss: 0.0076 - learning_rate: 1.0000e-06\n",
      "Epoch 335/340\n",
      "\u001b[1m1/1\u001b[0m \u001b[32m━━━━━━━━━━━━━━━━━━━━\u001b[0m\u001b[37m\u001b[0m \u001b[1m1s\u001b[0m 732ms/step - categorical_accuracy: 1.0000 - loss: 0.0349 - val_categorical_accuracy: 1.0000 - val_loss: 0.0076 - learning_rate: 1.0000e-06\n",
      "Epoch 336/340\n",
      "\u001b[1m1/1\u001b[0m \u001b[32m━━━━━━━━━━━━━━━━━━━━\u001b[0m\u001b[37m\u001b[0m \u001b[1m1s\u001b[0m 1s/step - categorical_accuracy: 1.0000 - loss: 0.0349 - val_categorical_accuracy: 1.0000 - val_loss: 0.0076 - learning_rate: 1.0000e-06\n",
      "Epoch 337/340\n",
      "\u001b[1m1/1\u001b[0m \u001b[32m━━━━━━━━━━━━━━━━━━━━\u001b[0m\u001b[37m\u001b[0m \u001b[1m1s\u001b[0m 706ms/step - categorical_accuracy: 1.0000 - loss: 0.0348 - val_categorical_accuracy: 1.0000 - val_loss: 0.0076 - learning_rate: 1.0000e-06\n",
      "Epoch 338/340\n",
      "\u001b[1m1/1\u001b[0m \u001b[32m━━━━━━━━━━━━━━━━━━━━\u001b[0m\u001b[37m\u001b[0m \u001b[1m1s\u001b[0m 970ms/step - categorical_accuracy: 1.0000 - loss: 0.0348 - val_categorical_accuracy: 1.0000 - val_loss: 0.0076 - learning_rate: 1.0000e-06\n",
      "Epoch 339/340\n",
      "\u001b[1m1/1\u001b[0m \u001b[32m━━━━━━━━━━━━━━━━━━━━\u001b[0m\u001b[37m\u001b[0m \u001b[1m0s\u001b[0m 350ms/step - categorical_accuracy: 1.0000 - loss: 0.0348 - val_categorical_accuracy: 1.0000 - val_loss: 0.0076 - learning_rate: 1.0000e-06\n",
      "Epoch 340/340\n",
      "\u001b[1m1/1\u001b[0m \u001b[32m━━━━━━━━━━━━━━━━━━━━\u001b[0m\u001b[37m\u001b[0m \u001b[1m1s\u001b[0m 643ms/step - categorical_accuracy: 1.0000 - loss: 0.0348 - val_categorical_accuracy: 1.0000 - val_loss: 0.0076 - learning_rate: 1.0000e-06\n",
      "No checkpoint found — using final trained weights.\n"
     ]
    }
   ],
   "source": [
    "# Model initialization\n",
    "model = Sequential()\n",
    "model.add(layers.LSTM(64, return_sequences=True, input_shape=(X.shape[1], X.shape[2])))\n",
    "model.add(layers.LSTM(64))\n",
    "model.add(layers.Dense(8, activation='softmax'))\n",
    "\n",
    "print(model.summary())\n",
    "\n",
    "batch_size = 23\n",
    "checkpoint_path = '/content/drive/My Drive/Colab Notebooks/best_weights.hdf5'\n",
    "\n",
    "# Callbacks\n",
    "mcp_save = callbacks.ModelCheckpoint(\n",
    "    filepath=\"/content/drive/My Drive/Colab Notebooks/best_weights.weights.h5\",\n",
    "    save_best_only=True,\n",
    "    save_weights_only=True,\n",
    "    monitor=\"val_loss\",\n",
    "    mode=\"min\"\n",
    ")\n",
    "\n",
    "rlrop = callbacks.ReduceLROnPlateau(\n",
    "    monitor='val_categorical_accuracy',\n",
    "    factor=0.1,\n",
    "    patience=100\n",
    ")\n",
    "\n",
    "# Compile\n",
    "model.compile(\n",
    "    loss='categorical_crossentropy',\n",
    "    optimizer='RMSProp',\n",
    "    metrics=['categorical_accuracy']\n",
    ")\n",
    "\n",
    "# Train\n",
    "history = model.fit(\n",
    "    x_train, y_train_class,\n",
    "    epochs=340, batch_size=batch_size,\n",
    "    validation_data=(x_val, y_val_class),\n",
    "    callbacks=[mcp_save, rlrop]\n",
    ")\n",
    "\n",
    "# Load the best weights **after** training finishes\n",
    "import os\n",
    "if os.path.exists(checkpoint_path):\n",
    "    model.load_weights(checkpoint_path)\n",
    "    print(\"Best weights loaded from:\", checkpoint_path)\n",
    "else:\n",
    "    print(\"No checkpoint found — using final trained weights.\")"
   ]
  },
  {
   "cell_type": "code",
   "execution_count": 30,
   "metadata": {
    "executionInfo": {
     "elapsed": 403,
     "status": "ok",
     "timestamp": 1755022826514,
     "user": {
      "displayName": "Selvi Srini",
      "userId": "14345722323190928676"
     },
     "user_tz": -120
    },
    "id": "t3xnV1S7ra_Y"
   },
   "outputs": [],
   "source": [
    "from sklearn.metrics import confusion_matrix\n",
    "import seaborn as sns\n",
    "import matplotlib.pyplot as plt"
   ]
  },
  {
   "cell_type": "code",
   "execution_count": 31,
   "metadata": {
    "colab": {
     "base_uri": "https://localhost:8080/",
     "height": 927
    },
    "executionInfo": {
     "elapsed": 415,
     "status": "ok",
     "timestamp": 1755022832625,
     "user": {
      "displayName": "Selvi Srini",
      "userId": "14345722323190928676"
     },
     "user_tz": -120
    },
    "id": "nu3eLmdtNlCF",
    "outputId": "04b84ce2-8879-4415-96c0-6226ec864bf9"
   },
   "outputs": [
    {
     "data": {
      "image/png": "[encoded data removed]",
      "text/plain": [
       "<Figure size 640x480 with 1 Axes>"
      ]
     },
     "metadata": {},
     "output_type": "display_data"
    },
    {
     "data": {
      "image/png": "[encoded data removed]",
      "text/plain": [
       "<Figure size 640x480 with 1 Axes>"
      ]
     },
     "metadata": {},
     "output_type": "display_data"
    }
   ],
   "source": [
    "# Loss, Accuracy presentation\n",
    "\n",
    "# Plot history: Loss\n",
    "plt.plot(history.history['loss'], label='Loss (training data)')\n",
    "plt.plot(history.history['val_loss'], label='Loss (validation data)')\n",
    "plt.title('Loss for train and validation')\n",
    "plt.ylabel('Loss value')\n",
    "plt.xlabel('No. epoch')\n",
    "plt.legend(loc=\"upper left\")\n",
    "plt.show()\n",
    "\n",
    "#Plot history: Accuracy\n",
    "plt.plot(history.history['categorical_accuracy'], label='Acc (training data)')\n",
    "plt.plot(history.history['val_categorical_accuracy'], label='Acc (validation data)')\n",
    "plt.title('Model accuracy')\n",
    "plt.ylabel('Acc %')\n",
    "plt.xlabel('No. epoch')\n",
    "plt.legend(loc=\"upper left\")\n",
    "plt.show()"
   ]
  },
  {
   "cell_type": "code",
   "execution_count": 32,
   "metadata": {
    "colab": {
     "base_uri": "https://localhost:8080/"
    },
    "executionInfo": {
     "elapsed": 117,
     "status": "ok",
     "timestamp": 1755022894267,
     "user": {
      "displayName": "Selvi Srini",
      "userId": "14345722323190928676"
     },
     "user_tz": -120
    },
    "id": "Bc6qcBGOMHv7",
    "outputId": "fd3f5417-b4bb-4e5b-cd4d-9caf8fb148c2"
   },
   "outputs": [
    {
     "name": "stdout",
     "output_type": "stream",
     "text": [
      "1/1 - 0s - 68ms/step - categorical_accuracy: 1.0000 - loss: 0.0076\n"
     ]
    }
   ],
   "source": [
    "# Validation score\n",
    "loss,acc = model.evaluate(x_val, y_val_class, verbose=2)"
   ]
  },
  {
   "cell_type": "code",
   "execution_count": 37,
   "metadata": {
    "colab": {
     "base_uri": "https://localhost:8080/"
    },
    "executionInfo": {
     "elapsed": 53,
     "status": "ok",
     "timestamp": 1755023431853,
     "user": {
      "displayName": "Selvi Srini",
      "userId": "14345722323190928676"
     },
     "user_tz": -120
    },
    "id": "M6l2m-c2jDPd",
    "outputId": "10630529-5936-4238-cf1c-1839e82afff5"
   },
   "outputs": [
    {
     "name": "stdout",
     "output_type": "stream",
     "text": [
      "(1,)\n"
     ]
    }
   ],
   "source": [
    "print(y_val_class.shape)"
   ]
  },
  {
   "cell_type": "code",
   "execution_count": 39,
   "metadata": {
    "colab": {
     "base_uri": "https://localhost:8080/",
     "height": 393
    },
    "executionInfo": {
     "elapsed": 606,
     "status": "error",
     "timestamp": 1755023647010,
     "user": {
      "displayName": "Selvi Srini",
      "userId": "14345722323190928676"
     },
     "user_tz": -120
    },
    "id": "3Icd1yFHra_Z",
    "outputId": "873fbec0-8921-49db-b8ed-31c9789b1185"
   },
   "outputs": [
    {
     "name": "stdout",
     "output_type": "stream",
     "text": [
      "\u001b[1m1/1\u001b[0m \u001b[32m━━━━━━━━━━━━━━━━━━━━\u001b[0m\u001b[37m\u001b[0m \u001b[1m0s\u001b[0m 196ms/step\n"
     ]
    },
    {
     "ename": "InvalidParameterError",
     "evalue": "The 'y_true' parameter of confusion_matrix must be an array-like. Got np.int64(0) instead.",
     "output_type": "error",
     "traceback": [
      "\u001b[0;31m---------------------------------------------------------------------------\u001b[0m",
      "\u001b[0;31mInvalidParameterError\u001b[0m                     Traceback (most recent call last)",
      "\u001b[0;32m/tmp/ipython-input-3943233321.py\u001b[0m in \u001b[0;36m<cell line: 0>\u001b[0;34m()\u001b[0m\n\u001b[1;32m      6\u001b[0m \u001b[0my_pred_class\u001b[0m \u001b[0;34m=\u001b[0m \u001b[0mnp\u001b[0m\u001b[0;34m.\u001b[0m\u001b[0margmax\u001b[0m\u001b[0;34m(\u001b[0m\u001b[0mpredictions\u001b[0m\u001b[0;34m,\u001b[0m \u001b[0maxis\u001b[0m\u001b[0;34m=\u001b[0m\u001b[0;36m1\u001b[0m\u001b[0;34m)\u001b[0m\u001b[0;34m\u001b[0m\u001b[0;34m\u001b[0m\u001b[0m\n\u001b[1;32m      7\u001b[0m \u001b[0;34m\u001b[0m\u001b[0m\n\u001b[0;32m----> 8\u001b[0;31m \u001b[0mcm\u001b[0m\u001b[0;34m=\u001b[0m\u001b[0mconfusion_matrix\u001b[0m\u001b[0;34m(\u001b[0m\u001b[0my_val_class\u001b[0m\u001b[0;34m,\u001b[0m \u001b[0my_pred_class\u001b[0m\u001b[0;34m)\u001b[0m\u001b[0;34m\u001b[0m\u001b[0;34m\u001b[0m\u001b[0m\n\u001b[0m\u001b[1;32m      9\u001b[0m \u001b[0;34m\u001b[0m\u001b[0m\n\u001b[1;32m     10\u001b[0m \u001b[0mindex\u001b[0m \u001b[0;34m=\u001b[0m \u001b[0;34m[\u001b[0m\u001b[0;34m'neutral'\u001b[0m\u001b[0;34m,\u001b[0m \u001b[0;34m'calm'\u001b[0m\u001b[0;34m,\u001b[0m \u001b[0;34m'happy'\u001b[0m\u001b[0;34m,\u001b[0m \u001b[0;34m'sad'\u001b[0m\u001b[0;34m,\u001b[0m \u001b[0;34m'angry'\u001b[0m\u001b[0;34m,\u001b[0m \u001b[0;34m'fearful'\u001b[0m\u001b[0;34m,\u001b[0m \u001b[0;34m'disgust'\u001b[0m\u001b[0;34m,\u001b[0m \u001b[0;34m'surprised'\u001b[0m\u001b[0;34m]\u001b[0m\u001b[0;34m\u001b[0m\u001b[0;34m\u001b[0m\u001b[0m\n",
      "\u001b[0;32m/usr/local/lib/python3.11/dist-packages/sklearn/utils/_param_validation.py\u001b[0m in \u001b[0;36mwrapper\u001b[0;34m(*args, **kwargs)\u001b[0m\n\u001b[1;32m    204\u001b[0m             \u001b[0mparams\u001b[0m \u001b[0;34m=\u001b[0m \u001b[0;34m{\u001b[0m\u001b[0mk\u001b[0m\u001b[0;34m:\u001b[0m \u001b[0mv\u001b[0m \u001b[0;32mfor\u001b[0m \u001b[0mk\u001b[0m\u001b[0;34m,\u001b[0m \u001b[0mv\u001b[0m \u001b[0;32min\u001b[0m \u001b[0mparams\u001b[0m\u001b[0;34m.\u001b[0m\u001b[0marguments\u001b[0m\u001b[0;34m.\u001b[0m\u001b[0mitems\u001b[0m\u001b[0;34m(\u001b[0m\u001b[0;34m)\u001b[0m \u001b[0;32mif\u001b[0m \u001b[0mk\u001b[0m \u001b[0;32mnot\u001b[0m \u001b[0;32min\u001b[0m \u001b[0mto_ignore\u001b[0m\u001b[0;34m}\u001b[0m\u001b[0;34m\u001b[0m\u001b[0;34m\u001b[0m\u001b[0m\n\u001b[1;32m    205\u001b[0m \u001b[0;34m\u001b[0m\u001b[0m\n\u001b[0;32m--> 206\u001b[0;31m             validate_parameter_constraints(\n\u001b[0m\u001b[1;32m    207\u001b[0m                 \u001b[0mparameter_constraints\u001b[0m\u001b[0;34m,\u001b[0m \u001b[0mparams\u001b[0m\u001b[0;34m,\u001b[0m \u001b[0mcaller_name\u001b[0m\u001b[0;34m=\u001b[0m\u001b[0mfunc\u001b[0m\u001b[0;34m.\u001b[0m\u001b[0m__qualname__\u001b[0m\u001b[0;34m\u001b[0m\u001b[0;34m\u001b[0m\u001b[0m\n\u001b[1;32m    208\u001b[0m             )\n",
      "\u001b[0;32m/usr/local/lib/python3.11/dist-packages/sklearn/utils/_param_validation.py\u001b[0m in \u001b[0;36mvalidate_parameter_constraints\u001b[0;34m(parameter_constraints, params, caller_name)\u001b[0m\n\u001b[1;32m     96\u001b[0m                 )\n\u001b[1;32m     97\u001b[0m \u001b[0;34m\u001b[0m\u001b[0m\n\u001b[0;32m---> 98\u001b[0;31m             raise InvalidParameterError(\n\u001b[0m\u001b[1;32m     99\u001b[0m                 \u001b[0;34mf\"The {param_name!r} parameter of {caller_name} must be\"\u001b[0m\u001b[0;34m\u001b[0m\u001b[0;34m\u001b[0m\u001b[0m\n\u001b[1;32m    100\u001b[0m                 \u001b[0;34mf\" {constraints_str}. Got {param_val!r} instead.\"\u001b[0m\u001b[0;34m\u001b[0m\u001b[0;34m\u001b[0m\u001b[0m\n",
      "\u001b[0;31mInvalidParameterError\u001b[0m: The 'y_true' parameter of confusion_matrix must be an array-like. Got np.int64(0) instead."
     ]
    }
   ],
   "source": [
    "# Validation Confusion matrix\n",
    "import pandas as pd\n",
    "\n",
    "y_val_class = np.argmax(y_val_class)#, axis=1)\n",
    "predictions = model.predict(x_val)\n",
    "y_pred_class = np.argmax(predictions, axis=1)\n",
    "\n",
    "cm=confusion_matrix(y_val_class, y_pred_class)\n",
    "\n",
    "index = ['neutral', 'calm', 'happy', 'sad', 'angry', 'fearful', 'disgust', 'surprised']\n",
    "columns = ['neutral', 'calm', 'happy', 'sad', 'angry', 'fearful', 'disgust', 'surprised']\n",
    "\n",
    "cm_df = pd.DataFrame(cm,index,columns)\n",
    "plt.figure(figsize=(12,8))\n",
    "ax = plt.axes()\n",
    "\n",
    "sns.heatmap(cm_df, ax = ax, cmap = 'PuBu', fmt=\"d\", annot=True)\n",
    "ax.set_ylabel('True emotion')\n",
    "ax.set_xlabel('Predicted emotion')"
   ]
  },
  {
   "cell_type": "code",
   "execution_count": 41,
   "metadata": {
    "colab": {
     "base_uri": "https://localhost:8080/"
    },
    "executionInfo": {
     "elapsed": 15,
     "status": "ok",
     "timestamp": 1755023781759,
     "user": {
      "displayName": "Selvi Srini",
      "userId": "14345722323190928676"
     },
     "user_tz": -120
    },
    "id": "j70DNePpra_c",
    "outputId": "7a80b5dc-aba3-4b01-eec3-6db67739e350"
   },
   "outputs": [
    {
     "name": "stdout",
     "output_type": "stream",
     "text": [
      "Validation set predicted emotions accuracy:\n",
      "neutral : 1.0000\n"
     ]
    }
   ],
   "source": [
    "# Validation set prediction accuracy rates\n",
    "\n",
    "values = cm.diagonal()\n",
    "row_sum = np.sum(cm,axis=1)\n",
    "acc = values / row_sum\n",
    "\n",
    "print('Validation set predicted emotions accuracy:')\n",
    "for e in range(0, len(values)):\n",
    "    print(index[e],':', f\"{(acc[e]):0.4f}\")"
   ]
  },
  {
   "cell_type": "code",
   "execution_count": null,
   "metadata": {
    "id": "8ybMruIrra_d"
   },
   "outputs": [],
   "source": [
    "# Saving model & weights\n",
    "\n",
    "from keras.models import model_from_json\n",
    "from keras.models import load_model\n",
    "\n",
    "model_json = model.to_json()\n",
    "saved_model_path = '/content/drive/My Drive/Colab Notebooks/model8723.json'\n",
    "saved_weights_path = '/content/drive/My Drive/Colab Notebooks/model8723_weights.h5'\n",
    "\n",
    "\n",
    "with open(saved_model_path, \"w\") as json_file:\n",
    "    json_file.write(model_json)\n",
    "\n",
    "model.save_weights(saved_weights_path)\n",
    "print(\"Saved model to disk\")\n"
   ]
  },
  {
   "cell_type": "code",
   "execution_count": null,
   "metadata": {
    "colab": {
     "base_uri": "https://localhost:8080/",
     "height": 422
    },
    "id": "7CvsDF6cOa3z",
    "outputId": "57ff07aa-cc3b-4ec3-e038-b1d022e6156c"
   },
   "outputs": [
    {
     "data": {
      "image/png": "[encoded data removed]",
      "text/plain": [
       "<IPython.core.display.Image object>"
      ]
     },
     "execution_count": 4,
     "metadata": {
      "tags": []
     },
     "output_type": "execute_result"
    }
   ],
   "source": [
    "# Reading the model from JSON file\n",
    "\n",
    "saved_model_path = '/content/drive/My Drive/Colab Notebooks/model8723.json'\n",
    "saved_weights_path = '/content/drive/My Drive/Colab Notebooks/model8723_weights.h5'\n",
    "\n",
    "with open(saved_model_path , 'r') as json_file:\n",
    "    json_savedModel = json_file.read()\n",
    "\n",
    "# Loading the model architecture, weights\n",
    "model = tf.keras.models.model_from_json(json_savedModel)\n",
    "model.load_weights(saved_weights_path)\n",
    "\n",
    "# Compiling the model with similar parameters as the original model.\n",
    "model.compile(loss='categorical_crossentropy',\n",
    "                optimizer='RMSProp',\n",
    "                metrics=['categorical_accuracy'])\n",
    "\n",
    "# Model's structure visualization\n",
    "tf.keras.utils.plot_model(model, to_file='model.png', show_shapes=True, show_layer_names=True)"
   ]
  },
  {
   "cell_type": "code",
   "execution_count": null,
   "metadata": {
    "id": "9aw0_8VfOa30"
   },
   "outputs": [],
   "source": [
    "# Loading x_test, y_test json files, and converting to np.arrays\n",
    "\n",
    "x_test = load( 'x_test_data.json')\n",
    "x_test = np.asarray(x_test).astype('float32')\n",
    "\n",
    "y_test = load('y_test_data.json')\n",
    "y_test = np.asarray(y_test).astype('int8')\n",
    "\n",
    "y_test_class = tf.keras.utils.to_categorical(y_test, 8, dtype = 'int8')"
   ]
  },
  {
   "cell_type": "code",
   "execution_count": null,
   "metadata": {
    "id": "b56-z_GUOa31",
    "outputId": "bd313c2f-f11d-4600-f1b7-1f8e6761253e"
   },
   "outputs": [
    {
     "name": "stdout",
     "output_type": "stream",
     "text": [
      "6/6 - 1s - loss: 0.5561 - categorical_accuracy: 0.8447\n"
     ]
    }
   ],
   "source": [
    "loss, acc = model.evaluate(x_test, y_test_class, verbose=2)"
   ]
  },
  {
   "cell_type": "code",
   "execution_count": null,
   "metadata": {
    "id": "9ssa4HRVOa31",
    "outputId": "4d2657e5-36f4-49cd-ded4-39e94f86a64a"
   },
   "outputs": [
    {
     "data": {
      "text/plain": [
       "Text(0.5, 51.0, 'Predicted emotion')"
      ]
     },
     "execution_count": 21,
     "metadata": {
      "tags": []
     },
     "output_type": "execute_result"
    },
    {
     "data": {
      "image/png": "[encoded data removed]",
      "text/plain": [
       "<Figure size 864x576 with 2 Axes>"
      ]
     },
     "metadata": {
      "needs_background": "light",
      "tags": []
     },
     "output_type": "display_data"
    }
   ],
   "source": [
    "# Test set Confusion matrix\n",
    "\n",
    "y_test_class = np.argmax(y_test_class, axis=1)\n",
    "predictions = model.predict(x_test)\n",
    "y_pred_class = np.argmax(predictions, axis=1)\n",
    "\n",
    "cm=confusion_matrix(y_test_class, y_pred_class)\n",
    "\n",
    "index = ['neutral', 'calm', 'happy', 'sad', 'angry', 'fearful', 'disgust', 'surprised']\n",
    "columns = ['neutral', 'calm', 'happy', 'sad', 'angry', 'fearful', 'disgust', 'surprised']\n",
    "\n",
    "cm_df = pd.DataFrame(cm,index,columns)\n",
    "plt.figure(figsize=(12,8))\n",
    "ax = plt.axes()\n",
    "\n",
    "sns.heatmap(cm_df, ax = ax, cmap = 'BuGn', fmt=\"d\", annot=True)\n",
    "ax.set_ylabel('True emotion')\n",
    "ax.set_xlabel('Predicted emotion')"
   ]
  },
  {
   "cell_type": "code",
   "execution_count": null,
   "metadata": {
    "id": "Hwbkmv2yOa32",
    "outputId": "7240b418-c619-4df9-f077-0361f0f452f1"
   },
   "outputs": [
    {
     "name": "stdout",
     "output_type": "stream",
     "text": [
      "Test set predicted emotions accuracy:\n",
      "neutral : 0.8947\n",
      "calm : 0.8000\n",
      "happy : 0.9524\n",
      "sad : 0.8696\n",
      "angry : 0.8462\n",
      "fearful : 0.7778\n",
      "disgust : 0.8696\n",
      "surprised : 0.7143\n"
     ]
    }
   ],
   "source": [
    "# Test set prediction accuracy rates\n",
    "\n",
    "values = cm.diagonal()\n",
    "row_sum = np.sum(cm,axis=1)\n",
    "acc = values / row_sum\n",
    "\n",
    "print('Test set predicted emotions accuracy:')\n",
    "for e in range(0, len(values)):\n",
    "    print(index[e],':', f\"{(acc[e]):0.4f}\")"
   ]
  }
 ],
 "metadata": {
  "colab": {
   "provenance": []
  },
  "kernelspec": {
   "display_name": "Python 3",
   "language": "python",
   "name": "python3"
  },
  "language_info": {
   "codemirror_mode": {
    "name": "ipython",
    "version": 3
   },
   "file_extension": ".py",
   "mimetype": "text/x-python",
   "name": "python",
   "nbconvert_exporter": "python",
   "pygments_lexer": "ipython3",
   "version": "3.12.6"
  }
 },
 "nbformat": 4,
 "nbformat_minor": 0
}
